{
  "cells": [
    {
      "cell_type": "markdown",
      "metadata": {
        "id": "n8NQeGuKPSKG"
      },
      "source": [
        "#Agenda\n",
        "1. Motivación\n",
        "2. Audiencia\n",
        "3. Definición del objetivo\n",
        "4. Contexto Comercial\n",
        "5. Problema Comercial\n",
        "6. Storytelling\n",
        "7. Exploratory Data Analytics\n",
        "8. Análisis Univariado y Bivariado\n",
        "9. Feature Engineering\n",
        "10. Mejores hiperparámetros y utilización de modelos con FE\n",
        "11. Mejores hiperparámetros y utilización de modelos con PCA\n",
        "\n",
        "\n",
        "\n",
        "\n",
        "\n",
        "\n",
        "\n",
        "\n",
        "\n",
        "\n"
      ]
    },
    {
      "cell_type": "markdown",
      "metadata": {
        "id": "353LVyZxPbkb"
      },
      "source": [
        "#1 - Motivación\n",
        "El presente proyecto tratará el tema de la diabetes, enfermedad crónica que afecta la capacidad del cuerpo de producir o utilizar insulina, lo que lleva a elevados niveles de glucosa en sangre. Es una enfermedad que afecta a uno de cada diez argentinos, con el agravante de que cuatro de cada diez desconocen su condición (fuente: Argentina.gob.ar), y a 442 millones de personas en el mundo aproximadamente, situación que se agrava con el pasar de los años y se prevé que esta tendencia continúe, dándole carácter de pandemia global.\n",
        "\n",
        "Dado que es imperativo poder sacar conclusiones rápidamente en relación a esta enfermedad, es que se ha decidido hacer análisis sobre un dataset, cuya fuente es Kaggle.com, que contiene diferentes parámetros (si una persona en cuestión es fumadora, sedentaria, qué tan buena es su salud mental, etc.). La idea es poder observar si estos parámetros están relacionados con esta enfermedad y, de ser el caso, cuáles tienen mayor impacto, de modo de poder sacar conclusiones y tomar un curso de acción determinado.\n",
        "\n",
        "En este desafío se realizarán análisis univariados, para entender las variables que resulten interesantes de manera individual, análisis bivariado, para entender relaciones entre pares de variables y poder visualizar patrones entre las mismas y análisis multivariado, para visualizar relaciones entre tres variables o más. También se realizarán cálculos adicionales, como tratamiento de valores nulos, si es que fuera pertinente.\n",
        "\n",
        "La conclusión a la que se pretende arribar es detectar si, efectivamente, algunas de las variables de las que se sospecha están relacionadas con la diabete o descartar la idea, si es que en los diferentes análisis no se observaran patrones que indiquen algún tipo de correspondencia."
      ]
    },
    {
      "cell_type": "markdown",
      "metadata": {
        "id": "Fm5lWj4YPvCM"
      },
      "source": [
        "#2 - Audiencia\n",
        "Las audiencias potenciales del presente trabajo pueden ser:\n",
        "\n",
        "Médicos y otros profesionales de la salud podrían estar interesados en los resultados del presente trabajo.\n",
        "Organizaciones gubernamentales de carácter nacional e internacional, cuyo foco es la salud.\n",
        "Prensa especializada en salud y prensa en general, en menor medida."
      ]
    },
    {
      "cell_type": "markdown",
      "metadata": {
        "id": "sWtqZGZzP3i5"
      },
      "source": [
        "#4 - Contexto Comercial\n",
        "Dado el gran impacto de la diabetes en la salud pública, se pretende que este proyecto esté alineado con los actores mencionados anteriormente (médicos, organizaciones de la salud, prensa especializada, etc) de manera de abordar esta problemática global. Dada la audiencia a la que se apunta, es importante asegurarse que los resultados obtenidos estén respaldados por evidencia científica sólida."
      ]
    },
    {
      "cell_type": "markdown",
      "metadata": {
        "id": "KSuwiIlnQCRn"
      },
      "source": [
        "#5 - Problema Comercial\n",
        "El objetivo de este proyecto es dar formato a los datos dados y responder mediante visualizaciones y otras herramientas a preguntas como las siguientes, pero no se descarta agregar más preguntas a medida que surjan:\n",
        "\n",
        "¿Existe relación entre la salud física de una persona y la diabetes?\n",
        "¿Existe relación entre la salud mental de una persona y la diabetes?\n",
        "¿La edad es un factor importante en relación a la diabetes?\n",
        "¿La diabetes tiene mayor preponderancia según el sexo de una persona?\n",
        "¿El índice de masa corporal es un factor a considerar para determinar si una persona es diabética?\n",
        "¿La presión arterial es un factor relevante en relación a la diabetes?"
      ]
    },
    {
      "cell_type": "markdown",
      "metadata": {
        "id": "KR_2JbKSh_QK"
      },
      "source": [
        "#6 - Storytelling\n",
        "\n",
        "El presente trabajo trata sobre diabetes: esta enfermedad es la novena causa de muertes en el mundo según datos de la OMS. Dicha enfermedad se caracteriza por los elevados niveles de azucar en sangre, esto ocurre cuando el cuerpo no produce suficiente insulina, o cuando las celulas no responden adecuadamente a la insulina que se produce.\n",
        "\n",
        "Hay que hacer la distinción entre diabetes tipo 1 y tipo 2: la primera es una enfermedad autoinmune, en la que el propio sistema inmunológico ataca las células beta del páncreas, que se encargan de producir la insulina.\n",
        "\n",
        "Por otro lado, la diabetes tipo 2 es una enfermedad adquirida, provocada por factores genéticos, estilo de vida y el entorno. Los factores de riesgo en la diabetes tipo 2 son la obesidad, la falta de actividad física y la mala alimentación.\n",
        "\n",
        "Para este trabajo se hará uso de un dataset que contiene diversos datos sobre personas como su salud física, mental, qué tipo de alimentación tiene: si come verduras, si fuma, si bebe alcohol, etc, y además se indica si dicha persona es diabética. Por lo tanto, la idea es ver cuáles de esos parámetros afecta más, o si puede verse algún patrón que nos pueda ayudar a sacar alguna conclusión. Dado que este dataset incluye factores que afectan más a la diabetes tipo 2, se hará hincapié en los pacientes con ese tipo de diabetes.\n",
        "\n",
        "Sería interesante tener un dataset más detallado sobre qué tipo de alimento consumen las personas, de manera de ver si aquellas que consumen alimentos ultraprocesados (aquellos alimentos que fueron desprovistos de sus nutrientes y se les adiciona sales, azúcares, grasas, etc para hacerlos adictivos) tienen tendencia a desarrollar diabetes por sobre aquellos que se alimentan de manera más equilibrada.\n",
        "\n",
        "Entonces, con los datos que poseemos, intentaremos responder algunas preguntas:\n",
        "\n",
        "\n",
        "*   ¿Hay relación entre la diabetes y la salud general de la persona?\n",
        "*   ¿Hay relación entre la diabetes y el Índice de Masa Corporal?\n",
        "*   ¿Hay relación entre la diabetes y la salud física de la persona?\n",
        "*   ¿Hay relación entre la diabetes y la salud mental de la persona?\n",
        "*   ¿Hay relación entre la diabetes y la educación de la persona?\n",
        "*   Si tomamos la población de fumadores, ¿se puede concluir que hay una gran proporción de diabéticos entre ellos?\n",
        "*   Si tomamos la población de gente con el colesterol alto, ¿se puede concluir que hay una gran proporción de diabéticos entre ellos?\n",
        "*   Si tomamos la población de gente con presión sanguinea alta, ¿se puede concluir que hay una gran proporción de diabéticos entre ellos?\n",
        "\n",
        "Todas estas preguntas intentarán ser respondidas en el presente proyecto:\n",
        "\n",
        "\n",
        "\n",
        "\n",
        "\n",
        "\n",
        "\n",
        "\n"
      ]
    },
    {
      "cell_type": "markdown",
      "metadata": {
        "id": "StoAMdQ4RFUq"
      },
      "source": [
        "#7 - Exploratory Data Analytics"
      ]
    },
    {
      "cell_type": "code",
      "execution_count": 1,
      "metadata": {
        "colab": {
          "base_uri": "https://localhost:8080/"
        },
        "id": "MJ3gXFkYLiqK",
        "outputId": "bdcd6259-e308-4784-c551-9872c66a76f9"
      },
      "outputs": [
        {
          "output_type": "stream",
          "name": "stdout",
          "text": [
            "Collecting scikit-optimize\n",
            "  Downloading scikit_optimize-0.10.1-py2.py3-none-any.whl (107 kB)\n",
            "\u001b[?25l     \u001b[90m━━━━━━━━━━━━━━━━━━━━━━━━━━━━━━━━━━━━━━━━\u001b[0m \u001b[32m0.0/107.7 kB\u001b[0m \u001b[31m?\u001b[0m eta \u001b[36m-:--:--\u001b[0m\r\u001b[2K     \u001b[91m━━━━━━━━━━━━━━━━━━━━━━━━━━━━━━━━━━━━━━\u001b[0m\u001b[90m╺\u001b[0m\u001b[90m━\u001b[0m \u001b[32m102.4/107.7 kB\u001b[0m \u001b[31m2.8 MB/s\u001b[0m eta \u001b[36m0:00:01\u001b[0m\r\u001b[2K     \u001b[91m━━━━━━━━━━━━━━━━━━━━━━━━━━━━━━━━━━━━━━\u001b[0m\u001b[90m╺\u001b[0m\u001b[90m━\u001b[0m \u001b[32m102.4/107.7 kB\u001b[0m \u001b[31m2.8 MB/s\u001b[0m eta \u001b[36m0:00:01\u001b[0m\r\u001b[2K     \u001b[90m━━━━━━━━━━━━━━━━━━━━━━━━━━━━━━━━━━━━━━━━\u001b[0m \u001b[32m107.7/107.7 kB\u001b[0m \u001b[31m1.2 MB/s\u001b[0m eta \u001b[36m0:00:00\u001b[0m\n",
            "\u001b[?25hRequirement already satisfied: joblib>=0.11 in /usr/local/lib/python3.10/dist-packages (from scikit-optimize) (1.4.2)\n",
            "Collecting pyaml>=16.9 (from scikit-optimize)\n",
            "  Downloading pyaml-24.4.0-py3-none-any.whl (24 kB)\n",
            "Requirement already satisfied: numpy>=1.20.3 in /usr/local/lib/python3.10/dist-packages (from scikit-optimize) (1.25.2)\n",
            "Requirement already satisfied: scipy>=1.1.0 in /usr/local/lib/python3.10/dist-packages (from scikit-optimize) (1.11.4)\n",
            "Requirement already satisfied: scikit-learn>=1.0.0 in /usr/local/lib/python3.10/dist-packages (from scikit-optimize) (1.2.2)\n",
            "Requirement already satisfied: packaging>=21.3 in /usr/local/lib/python3.10/dist-packages (from scikit-optimize) (24.0)\n",
            "Requirement already satisfied: PyYAML in /usr/local/lib/python3.10/dist-packages (from pyaml>=16.9->scikit-optimize) (6.0.1)\n",
            "Requirement already satisfied: threadpoolctl>=2.0.0 in /usr/local/lib/python3.10/dist-packages (from scikit-learn>=1.0.0->scikit-optimize) (3.5.0)\n",
            "Installing collected packages: pyaml, scikit-optimize\n",
            "Successfully installed pyaml-24.4.0 scikit-optimize-0.10.1\n"
          ]
        }
      ],
      "source": [
        "#Instalo la librería Scikit-learn Optimize\n",
        "\n",
        "!pip install scikit-optimize"
      ]
    },
    {
      "cell_type": "code",
      "execution_count": 2,
      "metadata": {
        "colab": {
          "base_uri": "https://localhost:8080/"
        },
        "id": "mJNOqEftL46T",
        "outputId": "74f3b635-f110-4152-94b8-0682bacc9e7d"
      },
      "outputs": [
        {
          "output_type": "stream",
          "name": "stdout",
          "text": [
            "Collecting catboost\n",
            "  Downloading catboost-1.2.5-cp310-cp310-manylinux2014_x86_64.whl (98.2 MB)\n",
            "\u001b[2K     \u001b[90m━━━━━━━━━━━━━━━━━━━━━━━━━━━━━━━━━━━━━━━━\u001b[0m \u001b[32m98.2/98.2 MB\u001b[0m \u001b[31m9.2 MB/s\u001b[0m eta \u001b[36m0:00:00\u001b[0m\n",
            "\u001b[?25hRequirement already satisfied: graphviz in /usr/local/lib/python3.10/dist-packages (from catboost) (0.20.3)\n",
            "Requirement already satisfied: matplotlib in /usr/local/lib/python3.10/dist-packages (from catboost) (3.7.1)\n",
            "Requirement already satisfied: numpy>=1.16.0 in /usr/local/lib/python3.10/dist-packages (from catboost) (1.25.2)\n",
            "Requirement already satisfied: pandas>=0.24 in /usr/local/lib/python3.10/dist-packages (from catboost) (2.0.3)\n",
            "Requirement already satisfied: scipy in /usr/local/lib/python3.10/dist-packages (from catboost) (1.11.4)\n",
            "Requirement already satisfied: plotly in /usr/local/lib/python3.10/dist-packages (from catboost) (5.15.0)\n",
            "Requirement already satisfied: six in /usr/local/lib/python3.10/dist-packages (from catboost) (1.16.0)\n",
            "Requirement already satisfied: python-dateutil>=2.8.2 in /usr/local/lib/python3.10/dist-packages (from pandas>=0.24->catboost) (2.8.2)\n",
            "Requirement already satisfied: pytz>=2020.1 in /usr/local/lib/python3.10/dist-packages (from pandas>=0.24->catboost) (2023.4)\n",
            "Requirement already satisfied: tzdata>=2022.1 in /usr/local/lib/python3.10/dist-packages (from pandas>=0.24->catboost) (2024.1)\n",
            "Requirement already satisfied: contourpy>=1.0.1 in /usr/local/lib/python3.10/dist-packages (from matplotlib->catboost) (1.2.1)\n",
            "Requirement already satisfied: cycler>=0.10 in /usr/local/lib/python3.10/dist-packages (from matplotlib->catboost) (0.12.1)\n",
            "Requirement already satisfied: fonttools>=4.22.0 in /usr/local/lib/python3.10/dist-packages (from matplotlib->catboost) (4.51.0)\n",
            "Requirement already satisfied: kiwisolver>=1.0.1 in /usr/local/lib/python3.10/dist-packages (from matplotlib->catboost) (1.4.5)\n",
            "Requirement already satisfied: packaging>=20.0 in /usr/local/lib/python3.10/dist-packages (from matplotlib->catboost) (24.0)\n",
            "Requirement already satisfied: pillow>=6.2.0 in /usr/local/lib/python3.10/dist-packages (from matplotlib->catboost) (9.4.0)\n",
            "Requirement already satisfied: pyparsing>=2.3.1 in /usr/local/lib/python3.10/dist-packages (from matplotlib->catboost) (3.1.2)\n",
            "Requirement already satisfied: tenacity>=6.2.0 in /usr/local/lib/python3.10/dist-packages (from plotly->catboost) (8.3.0)\n",
            "Installing collected packages: catboost\n",
            "Successfully installed catboost-1.2.5\n"
          ]
        }
      ],
      "source": [
        "!pip install catboost"
      ]
    },
    {
      "cell_type": "code",
      "execution_count": 3,
      "metadata": {
        "colab": {
          "base_uri": "https://localhost:8080/"
        },
        "id": "tiQU_9RPPdmh",
        "outputId": "ae90fd43-bf57-439f-8711-5410b8494b6d"
      },
      "outputs": [
        {
          "output_type": "stream",
          "name": "stdout",
          "text": [
            "Requirement already satisfied: imbalanced-learn in /usr/local/lib/python3.10/dist-packages (0.10.1)\n",
            "Requirement already satisfied: numpy>=1.17.3 in /usr/local/lib/python3.10/dist-packages (from imbalanced-learn) (1.25.2)\n",
            "Requirement already satisfied: scipy>=1.3.2 in /usr/local/lib/python3.10/dist-packages (from imbalanced-learn) (1.11.4)\n",
            "Requirement already satisfied: scikit-learn>=1.0.2 in /usr/local/lib/python3.10/dist-packages (from imbalanced-learn) (1.2.2)\n",
            "Requirement already satisfied: joblib>=1.1.1 in /usr/local/lib/python3.10/dist-packages (from imbalanced-learn) (1.4.2)\n",
            "Requirement already satisfied: threadpoolctl>=2.0.0 in /usr/local/lib/python3.10/dist-packages (from imbalanced-learn) (3.5.0)\n"
          ]
        }
      ],
      "source": [
        "!pip install imbalanced-learn"
      ]
    },
    {
      "cell_type": "code",
      "execution_count": 4,
      "metadata": {
        "id": "oTXtDoD_q5LX"
      },
      "outputs": [],
      "source": [
        "#Importo las librerías.\n",
        "\n",
        "import pandas as pd\n",
        "import numpy as np\n",
        "import matplotlib as mpl\n",
        "import matplotlib.pyplot as plt\n",
        "import seaborn as sns\n",
        "from sklearn import datasets\n",
        "import scipy.stats as stats\n",
        "from sklearn.preprocessing import StandardScaler\n",
        "from sklearn.preprocessing import RobustScaler\n",
        "from sklearn.model_selection import train_test_split\n",
        "from sklearn.decomposition import PCA\n",
        "from skopt import BayesSearchCV\n",
        "from sklearn.model_selection import StratifiedKFold\n",
        "\n",
        "#Feature Engineering\n",
        "\n",
        "from sklearn.preprocessing import PolynomialFeatures\n",
        "from sklearn.inspection import PartialDependenceDisplay\n",
        "\n",
        "\n",
        "#Librerías de clasificación\n",
        "\n",
        "from catboost import CatBoostClassifier\n",
        "from xgboost import XGBClassifier\n",
        "from lightgbm import LGBMClassifier\n",
        "from sklearn.ensemble import RandomForestClassifier\n",
        "from sklearn.tree import DecisionTreeClassifier\n",
        "\n",
        "#Librerías de métricas\n",
        "\n",
        "from sklearn.metrics import accuracy_score, confusion_matrix\n",
        "from skopt.space import Real, Categorical, Integer\n",
        "from sklearn.metrics import accuracy_score, confusion_matrix, precision_score, recall_score, f1_score, roc_auc_score, roc_curve"
      ]
    },
    {
      "cell_type": "code",
      "execution_count": 5,
      "metadata": {
        "colab": {
          "base_uri": "https://localhost:8080/"
        },
        "id": "zBXiIDJfrE-V",
        "outputId": "64aa4b44-4df6-4fca-8d9f-fc91fbd5f381"
      },
      "outputs": [
        {
          "output_type": "stream",
          "name": "stdout",
          "text": [
            "Mounted at /content/gdrive\n"
          ]
        }
      ],
      "source": [
        "from google.colab import drive\n",
        "drive.mount ('/content/gdrive')"
      ]
    },
    {
      "cell_type": "code",
      "execution_count": 6,
      "metadata": {
        "id": "O4q8aDOurUME"
      },
      "outputs": [],
      "source": [
        "#Abro el archivo CSV en un dataframe.\n",
        "\n",
        "ruta_diabetes = '/content/gdrive/MyDrive/PreEntrega_3_DS/Dataset_IndicadoresDiabetes.csv'\n",
        "dfdiabetes = pd.read_csv(ruta_diabetes)"
      ]
    },
    {
      "cell_type": "code",
      "execution_count": 7,
      "metadata": {
        "colab": {
          "base_uri": "https://localhost:8080/"
        },
        "id": "911MNzKNre-H",
        "outputId": "e177137d-b3cc-4b52-8f79-8a0eb5ef6e35"
      },
      "outputs": [
        {
          "output_type": "stream",
          "name": "stdout",
          "text": [
            "   HeartDiseaseorAttack  HighBP  HighChol  CholCheck   BMI  Smoker  Stroke  \\\n",
            "0                   0.0     1.0       1.0        1.0  40.0     1.0     0.0   \n",
            "1                   0.0     0.0       0.0        0.0  25.0     1.0     0.0   \n",
            "2                   0.0     1.0       1.0        1.0  28.0     0.0     0.0   \n",
            "3                   0.0     1.0       0.0        1.0  27.0     0.0     0.0   \n",
            "4                   0.0     1.0       1.0        1.0  24.0     0.0     0.0   \n",
            "\n",
            "   Diabetes  PhysActivity  Fruits  ...  AnyHealthcare  NoDocbcCost  GenHlth  \\\n",
            "0       0.0           0.0     0.0  ...            1.0          0.0      5.0   \n",
            "1       0.0           1.0     0.0  ...            0.0          1.0      3.0   \n",
            "2       0.0           0.0     1.0  ...            1.0          1.0      5.0   \n",
            "3       0.0           1.0     1.0  ...            1.0          0.0      2.0   \n",
            "4       0.0           1.0     1.0  ...            1.0          0.0      2.0   \n",
            "\n",
            "   MentHlth  PhysHlth  DiffWalk  Sex   Age  Education  Income  \n",
            "0      18.0      15.0       1.0  0.0   9.0        4.0     3.0  \n",
            "1       0.0       0.0       0.0  0.0   7.0        6.0     1.0  \n",
            "2      30.0      30.0       1.0  0.0   9.0        4.0     8.0  \n",
            "3       0.0       0.0       0.0  0.0  11.0        3.0     6.0  \n",
            "4       3.0       0.0       0.0  0.0  11.0        5.0     4.0  \n",
            "\n",
            "[5 rows x 22 columns]\n"
          ]
        }
      ],
      "source": [
        "#Imprimo las primeras cinco filas del dataframe.\n",
        "\n",
        "print(dfdiabetes.head())"
      ]
    },
    {
      "cell_type": "code",
      "execution_count": 8,
      "metadata": {
        "colab": {
          "base_uri": "https://localhost:8080/"
        },
        "id": "7HcbMcx1w-Ou",
        "outputId": "14bb414d-7554-4cca-be99-5f8f776a70d3"
      },
      "outputs": [
        {
          "output_type": "stream",
          "name": "stdout",
          "text": [
            "<class 'pandas.core.frame.DataFrame'>\n",
            "RangeIndex: 253680 entries, 0 to 253679\n",
            "Data columns (total 22 columns):\n",
            " #   Column                Non-Null Count   Dtype   \n",
            "---  ------                --------------   -----   \n",
            " 0   HeartDiseaseorAttack  253680 non-null  category\n",
            " 1   HighBP                253680 non-null  category\n",
            " 2   HighChol              253680 non-null  category\n",
            " 3   CholCheck             253680 non-null  category\n",
            " 4   BMI                   253680 non-null  float64 \n",
            " 5   Smoker                253680 non-null  category\n",
            " 6   Stroke                253680 non-null  category\n",
            " 7   Diabetes              253680 non-null  category\n",
            " 8   PhysActivity          253680 non-null  category\n",
            " 9   Fruits                253680 non-null  category\n",
            " 10  Veggies               253680 non-null  category\n",
            " 11  HvyAlcoholConsump     253680 non-null  category\n",
            " 12  AnyHealthcare         253680 non-null  category\n",
            " 13  NoDocbcCost           253680 non-null  category\n",
            " 14  GenHlth               253680 non-null  float64 \n",
            " 15  MentHlth              253680 non-null  float64 \n",
            " 16  PhysHlth              253680 non-null  float64 \n",
            " 17  DiffWalk              253680 non-null  category\n",
            " 18  Sex                   253680 non-null  category\n",
            " 19  Age                   253680 non-null  float64 \n",
            " 20  Education             253680 non-null  float64 \n",
            " 21  Income                253680 non-null  float64 \n",
            "dtypes: category(15), float64(7)\n",
            "memory usage: 17.2 MB\n"
          ]
        }
      ],
      "source": [
        "#El dataset posee muchas columnas floats que deben convertirse a categóricas\n",
        "\n",
        "Vector_Columnas = ['HeartDiseaseorAttack', 'HighBP', 'HighChol', 'CholCheck', 'Smoker', 'Stroke', 'Diabetes', 'PhysActivity', 'Fruits', 'Veggies', 'HvyAlcoholConsump', 'AnyHealthcare', 'NoDocbcCost', 'DiffWalk', 'Sex']\n",
        "dfdiabetes[Vector_Columnas] = dfdiabetes[Vector_Columnas].astype('category')\n",
        "dfdiabetes.info()"
      ]
    },
    {
      "cell_type": "code",
      "execution_count": 9,
      "metadata": {
        "colab": {
          "base_uri": "https://localhost:8080/"
        },
        "id": "NDxsmxnqxFFu",
        "outputId": "1400dacf-a94f-4036-daeb-81aadf9257d2"
      },
      "outputs": [
        {
          "output_type": "stream",
          "name": "stdout",
          "text": [
            "       HeartDiseaseorAttack HighBP HighChol CholCheck   BMI Smoker Stroke  \\\n",
            "0                       0.0    1.0      1.0       1.0  40.0    1.0    0.0   \n",
            "1                       0.0    0.0      0.0       0.0  25.0    1.0    0.0   \n",
            "2                       0.0    1.0      1.0       1.0  28.0    0.0    0.0   \n",
            "3                       0.0    1.0      0.0       1.0  27.0    0.0    0.0   \n",
            "4                       0.0    1.0      1.0       1.0  24.0    0.0    0.0   \n",
            "...                     ...    ...      ...       ...   ...    ...    ...   \n",
            "253675                  0.0    1.0      1.0       1.0  45.0    0.0    0.0   \n",
            "253676                  0.0    1.0      1.0       1.0  18.0    0.0    0.0   \n",
            "253677                  0.0    0.0      0.0       1.0  28.0    0.0    0.0   \n",
            "253678                  0.0    1.0      0.0       1.0  23.0    0.0    0.0   \n",
            "253679                  1.0    1.0      1.0       1.0  25.0    0.0    0.0   \n",
            "\n",
            "       Diabetes PhysActivity Fruits  ... AnyHealthcare NoDocbcCost GenHlth  \\\n",
            "0           0.0          0.0    0.0  ...           1.0         0.0     5.0   \n",
            "1           0.0          1.0    0.0  ...           0.0         1.0     3.0   \n",
            "2           0.0          0.0    1.0  ...           1.0         1.0     5.0   \n",
            "3           0.0          1.0    1.0  ...           1.0         0.0     2.0   \n",
            "4           0.0          1.0    1.0  ...           1.0         0.0     2.0   \n",
            "...         ...          ...    ...  ...           ...         ...     ...   \n",
            "253675      0.0          0.0    1.0  ...           1.0         0.0     3.0   \n",
            "253676      2.0          0.0    0.0  ...           1.0         0.0     4.0   \n",
            "253677      0.0          1.0    1.0  ...           1.0         0.0     1.0   \n",
            "253678      0.0          0.0    1.0  ...           1.0         0.0     3.0   \n",
            "253679      2.0          1.0    1.0  ...           1.0         0.0     2.0   \n",
            "\n",
            "       MentHlth  PhysHlth  DiffWalk  Sex   Age Education  Income  \n",
            "0          18.0      15.0       1.0  0.0   9.0       4.0     3.0  \n",
            "1           0.0       0.0       0.0  0.0   7.0       6.0     1.0  \n",
            "2          30.0      30.0       1.0  0.0   9.0       4.0     8.0  \n",
            "3           0.0       0.0       0.0  0.0  11.0       3.0     6.0  \n",
            "4           3.0       0.0       0.0  0.0  11.0       5.0     4.0  \n",
            "...         ...       ...       ...  ...   ...       ...     ...  \n",
            "253675      0.0       5.0       0.0  1.0   5.0       6.0     7.0  \n",
            "253676      0.0       0.0       1.0  0.0  11.0       2.0     4.0  \n",
            "253677      0.0       0.0       0.0  0.0   2.0       5.0     2.0  \n",
            "253678      0.0       0.0       0.0  1.0   7.0       5.0     1.0  \n",
            "253679      0.0       0.0       0.0  0.0   9.0       6.0     2.0  \n",
            "\n",
            "[229781 rows x 22 columns]\n"
          ]
        }
      ],
      "source": [
        "#Observamos si hay datos nulos en el dataset y si existen valores duplicados.\n",
        "\n",
        "dfdiabetes.isnull().sum()\n",
        "\n",
        "Duplicados = dfdiabetes[dfdiabetes.duplicated()]\n",
        "\n",
        "#print(Duplicados)\n",
        "\n",
        "dfdiabetes = dfdiabetes.drop_duplicates()\n",
        "\n",
        "print(dfdiabetes)"
      ]
    },
    {
      "cell_type": "markdown",
      "metadata": {
        "id": "J3M9SUSdEkTq"
      },
      "source": [
        "##Tratamiento de outliers"
      ]
    },
    {
      "cell_type": "code",
      "execution_count": 10,
      "metadata": {
        "colab": {
          "base_uri": "https://localhost:8080/"
        },
        "id": "AfmTBjPNFpRk",
        "outputId": "b8b9a07c-dd3b-45ae-ddf1-6533a3fdc75f"
      },
      "outputs": [
        {
          "output_type": "stream",
          "name": "stdout",
          "text": [
            "       HeartDiseaseorAttack HighBP HighChol CholCheck   BMI Smoker Stroke  \\\n",
            "0                       0.0    0.0      0.0       0.0  25.0    1.0    0.0   \n",
            "1                       0.0    1.0      0.0       1.0  27.0    0.0    0.0   \n",
            "2                       0.0    1.0      1.0       1.0  24.0    0.0    0.0   \n",
            "3                       0.0    1.0      1.0       1.0  25.0    1.0    0.0   \n",
            "4                       0.0    1.0      1.0       1.0  25.0    1.0    0.0   \n",
            "...                     ...    ...      ...       ...   ...    ...    ...   \n",
            "155004                  0.0    0.0      0.0       1.0  27.0    0.0    0.0   \n",
            "155005                  0.0    1.0      1.0       1.0  18.0    0.0    0.0   \n",
            "155006                  0.0    0.0      0.0       1.0  28.0    0.0    0.0   \n",
            "155007                  0.0    1.0      0.0       1.0  23.0    0.0    0.0   \n",
            "155008                  1.0    1.0      1.0       1.0  25.0    0.0    0.0   \n",
            "\n",
            "       Diabetes PhysActivity Fruits  ... AnyHealthcare NoDocbcCost GenHlth  \\\n",
            "0           0.0          1.0    0.0  ...           0.0         1.0     3.0   \n",
            "1           0.0          1.0    1.0  ...           1.0         0.0     2.0   \n",
            "2           0.0          1.0    1.0  ...           1.0         0.0     2.0   \n",
            "3           0.0          1.0    1.0  ...           1.0         0.0     2.0   \n",
            "4           0.0          1.0    0.0  ...           1.0         0.0     3.0   \n",
            "...         ...          ...    ...  ...           ...         ...     ...   \n",
            "155004      0.0          0.0    0.0  ...           1.0         0.0     1.0   \n",
            "155005      2.0          0.0    0.0  ...           1.0         0.0     4.0   \n",
            "155006      0.0          1.0    1.0  ...           1.0         0.0     1.0   \n",
            "155007      0.0          0.0    1.0  ...           1.0         0.0     3.0   \n",
            "155008      2.0          1.0    1.0  ...           1.0         0.0     2.0   \n",
            "\n",
            "       MentHlth  PhysHlth  DiffWalk  Sex   Age Education  Income  \n",
            "0           0.0       0.0       0.0  0.0   7.0       6.0     1.0  \n",
            "1           0.0       0.0       0.0  0.0  11.0       3.0     6.0  \n",
            "2           3.0       0.0       0.0  0.0  11.0       5.0     4.0  \n",
            "3           0.0       2.0       0.0  1.0  10.0       6.0     8.0  \n",
            "4           0.0       0.0       1.0  0.0  11.0       4.0     4.0  \n",
            "...         ...       ...       ...  ...   ...       ...     ...  \n",
            "155004      0.0       0.0       0.0  0.0   3.0       6.0     5.0  \n",
            "155005      0.0       0.0       1.0  0.0  11.0       2.0     4.0  \n",
            "155006      0.0       0.0       0.0  0.0   2.0       5.0     2.0  \n",
            "155007      0.0       0.0       0.0  1.0   7.0       5.0     1.0  \n",
            "155008      0.0       0.0       0.0  0.0   9.0       6.0     2.0  \n",
            "\n",
            "[155009 rows x 22 columns]\n"
          ]
        }
      ],
      "source": [
        "#Calculamos Q1 y Q3\n",
        "\n",
        "columnas_numericas = dfdiabetes.select_dtypes(include=['float64'])\n",
        "\n",
        "columnas_categoricas = dfdiabetes.select_dtypes(include=['category'])\n",
        "\n",
        "# Calcular los percentiles para cada columna float64\n",
        "\n",
        "percentiles = columnas_numericas.apply(lambda x: np.percentile(x, [25, 50, 75]))\n",
        "\n",
        "# Calcular el rango intercuartílico (IQR) para cada columna float64\n",
        "IQR = percentiles.iloc[2] - percentiles.iloc[0]\n",
        "\n",
        "# Defino los límites inferior y superior para considerar outliers\n",
        "\n",
        "limite_inferior = percentiles.iloc[0] - 1.5*IQR\n",
        "limite_superior = percentiles.iloc[2] + IQR\n",
        "\n",
        "# Identificar outliers en cada columna float64 y guardar los datos sin outliers en un dataframe\n",
        "\n",
        "dfdiabetes_sin_outliers = dfdiabetes[(columnas_numericas >= limite_inferior) & (columnas_numericas <= limite_superior)]\n",
        "\n",
        "dfdiabetes_sin_outliers[columnas_categoricas.columns] = dfdiabetes[columnas_categoricas.columns]\n",
        "\n",
        "dfdiabetes_sin_outliers = dfdiabetes_sin_outliers.dropna()\n",
        "\n",
        "# Restablezco el índice\n",
        "\n",
        "dfdiabetes_sin_outliers = dfdiabetes_sin_outliers.reset_index(drop=True)\n",
        "\n",
        "#Imprimo\n",
        "\n",
        "print(dfdiabetes_sin_outliers)\n",
        "\n",
        "#Guardo el csv generado para revisión\n",
        "\n",
        "dfdiabetes_sin_outliers.to_csv('/content/dfdiabetes_sin_outliers.csv', index=False)\n",
        "\n"
      ]
    },
    {
      "cell_type": "markdown",
      "metadata": {
        "id": "n-VDfLKqRXlT"
      },
      "source": [
        "#8 - Análisis Univariado y Bivariado"
      ]
    },
    {
      "cell_type": "markdown",
      "metadata": {
        "id": "JpPXJLK4Shej"
      },
      "source": [
        "##Análisis univariado\n",
        "\n",
        "La intención en esta sección es representar gráficamente las variables individualmente para sacar conclusiones. En el caso particular de este dataset, para observar cómo están distribuidos los datos en algunas de las variables que considero pertinentes y que pueden tener impacto en la enfermedad tratada en este trabajo."
      ]
    },
    {
      "cell_type": "code",
      "execution_count": 11,
      "metadata": {
        "colab": {
          "base_uri": "https://localhost:8080/",
          "height": 473
        },
        "id": "INO4Vjun6YRB",
        "outputId": "e90a95a1-e653-4f20-e180-3252a06aaaab"
      },
      "outputs": [
        {
          "output_type": "display_data",
          "data": {
            "text/plain": [
              "<Figure size 640x480 with 1 Axes>"
            ],
            "image/png": "[encoded data removed]"
          },
          "metadata": {}
        }
      ],
      "source": [
        "#Grafico la población de diabéticos\n",
        "\n",
        "sns.countplot(data = dfdiabetes_sin_outliers, x = 'Diabetes')\n",
        "\n",
        "#Agrego el título\n",
        "\n",
        "plt.title('Cantidad de diabéticos (tipo 1 y 2) y no diabéticos')\n",
        "\n",
        "#Coloco el nombre a los ejes\n",
        "\n",
        "plt.xlabel('Diabéticos(tipo 1 y 2) y no diabéticos')\n",
        "plt.ylabel('Cantidad')\n",
        "\n",
        "#Muestro el gráfico, las referencias son: 1:  Fumador, 2: No fumador\n",
        "\n",
        "plt.show()"
      ]
    },
    {
      "cell_type": "code",
      "execution_count": 12,
      "metadata": {
        "colab": {
          "base_uri": "https://localhost:8080/",
          "height": 472
        },
        "id": "TiqSUuR1StA4",
        "outputId": "5a2d75da-4fd8-4518-c34d-c4ea5f64ad29"
      },
      "outputs": [
        {
          "output_type": "display_data",
          "data": {
            "text/plain": [
              "<Figure size 640x480 with 1 Axes>"
            ],
            "image/png": "[encoded data removed]"
          },
          "metadata": {}
        }
      ],
      "source": [
        "#Grafico la población de fumadores y no fumadores\n",
        "\n",
        "sns.countplot(data = dfdiabetes_sin_outliers, x = 'Smoker')\n",
        "\n",
        "#Agrego el título\n",
        "\n",
        "plt.title('Cantidad de fumadores y no fumadores')\n",
        "\n",
        "#Coloco el nombre a los ejes\n",
        "\n",
        "plt.xlabel('Fumadores')\n",
        "plt.ylabel('No fumadores vs Fumadores')\n",
        "\n",
        "#Muestro el gráfico, las referencias son: 1:  Fumador, 2: No fumador\n",
        "\n",
        "plt.show()"
      ]
    },
    {
      "cell_type": "code",
      "execution_count": 13,
      "metadata": {
        "colab": {
          "base_uri": "https://localhost:8080/",
          "height": 472
        },
        "id": "yctrxuMBS0zE",
        "outputId": "5bc06aa0-f752-44f7-b897-0db83c14ad3d"
      },
      "outputs": [
        {
          "output_type": "display_data",
          "data": {
            "text/plain": [
              "<Figure size 640x480 with 1 Axes>"
            ],
            "image/png": "[encoded data removed]"
          },
          "metadata": {}
        }
      ],
      "source": [
        "#Grafico la cantidad de gente que consume vegetales al menos una vez por día\n",
        "\n",
        "sns.countplot(data = dfdiabetes_sin_outliers, x = 'Veggies')\n",
        "\n",
        "#Agrego un título\n",
        "\n",
        "plt.title('Gente que consume vegetales vs gente que no consume vegetales')\n",
        "\n",
        "#Nombro los ejes\n",
        "\n",
        "plt.xlabel('Vegetales vs No vegetales')\n",
        "plt.ylabel('Cantidad')\n",
        "\n",
        "#Muestro el gràfico, referencia: 0: No consume vegetales, 1: Consume vegetales\n",
        "\n",
        "plt.show()"
      ]
    },
    {
      "cell_type": "code",
      "execution_count": 14,
      "metadata": {
        "colab": {
          "base_uri": "https://localhost:8080/",
          "height": 472
        },
        "id": "wr9UBeYHS71A",
        "outputId": "30fbe21a-8acb-491b-9300-cf009befd2b7"
      },
      "outputs": [
        {
          "output_type": "display_data",
          "data": {
            "text/plain": [
              "<Figure size 640x480 with 1 Axes>"
            ],
            "image/png": "[encoded data removed]"
          },
          "metadata": {}
        }
      ],
      "source": [
        "#Grafico la cantidad de gente con colesterol alto vs las que no.\n",
        "\n",
        "sns.countplot(data = dfdiabetes_sin_outliers, x = 'HighChol')\n",
        "\n",
        "#Agrego un título\n",
        "\n",
        "plt.title('Colesterol Alto vs Colesterol Normal' )\n",
        "\n",
        "#Nombro los ejes\n",
        "\n",
        "plt.xlabel('Colesterol Alto o no')\n",
        "plt.ylabel('Cantidad')\n",
        "\n",
        "#Muestro el gráfico, referencia: 0: Colesterol Alto, 1: Colesterol Bajo\n",
        "\n",
        "plt.show()"
      ]
    },
    {
      "cell_type": "code",
      "execution_count": 15,
      "metadata": {
        "colab": {
          "base_uri": "https://localhost:8080/",
          "height": 472
        },
        "id": "7h23XLxATJof",
        "outputId": "d4ec2e5f-7f68-4694-f87f-3e3ddadfaf48"
      },
      "outputs": [
        {
          "output_type": "display_data",
          "data": {
            "text/plain": [
              "<Figure size 640x480 with 1 Axes>"
            ],
            "image/png": "[encoded data removed]"
          },
          "metadata": {}
        }
      ],
      "source": [
        "#Grafico un histograma para ver cómo están distribuidas las edades\n",
        "\n",
        "sns.histplot(data =dfdiabetes_sin_outliers, x = 'BMI', bins = 5)\n",
        "\n",
        "#Agrego un título\n",
        "\n",
        "plt.title('Distribución de IMC')\n",
        "\n",
        "#Agrego los ejes\n",
        "\n",
        "plt.xlabel('Bins')\n",
        "plt.ylabel('Frecuencia')\n",
        "\n",
        "plt.show()"
      ]
    },
    {
      "cell_type": "markdown",
      "metadata": {
        "id": "n6HmCPmhTQBa"
      },
      "source": [
        "Análisis bivariado\n",
        "\n",
        "La intención en esta sección es graficar dos variables, con el objetivo de observar si existe alguna correlación entre las mismas. Dichas variables deberían ser pertinentes de analizar, de manera de sacar conclusiones y poder seguir un curso de acción."
      ]
    },
    {
      "cell_type": "code",
      "execution_count": 16,
      "metadata": {
        "colab": {
          "base_uri": "https://localhost:8080/",
          "height": 410
        },
        "id": "lB-Ev0jIxLey",
        "outputId": "5d63489a-6c2f-4299-d2d4-0557888a56ab"
      },
      "outputs": [
        {
          "output_type": "display_data",
          "data": {
            "text/plain": [
              "<Figure size 1200x400 with 1 Axes>"
            ],
            "image/png": "[encoded data removed]"
          },
          "metadata": {}
        }
      ],
      "source": [
        "#¿Hay relación entre la diabetes y la salud general de la persona?\n",
        "\n",
        "plt.figure(figsize = (12,4))\n",
        "sns.boxplot(data = dfdiabetes_sin_outliers, x='Diabetes', y='GenHlth')\n",
        "\n",
        "#Coloco título y nombro los ejes\n",
        "\n",
        "plt.title('Boxplot de Diabetes vs Salud General')\n",
        "plt.xlabel('Diabetes')\n",
        "plt.ylabel('Salud General')\n",
        "\n",
        "#Muestro el gráfico\n",
        "\n",
        "plt.show()"
      ]
    },
    {
      "cell_type": "markdown",
      "metadata": {
        "id": "3qc2zo36biW3"
      },
      "source": [
        "Aquí podemos observar la incidencia de la salud general en la diabetes tipo 2. El resultado es previsible, dado que mientras peor sean sus hábitos alimenticios y físicos, es más probable que contraiga diabetes tipo 2. En diabetes tipo 1 se puede observar un espectro amplio de valores, pero esta es una diabetes autoinmune no causada por los hábitos de la persona."
      ]
    },
    {
      "cell_type": "code",
      "execution_count": 17,
      "metadata": {
        "colab": {
          "base_uri": "https://localhost:8080/",
          "height": 410
        },
        "id": "S83fHVjBy2Zg",
        "outputId": "173ebcba-767d-412d-e468-5ff13bc1020f"
      },
      "outputs": [
        {
          "output_type": "display_data",
          "data": {
            "text/plain": [
              "<Figure size 1200x400 with 1 Axes>"
            ],
            "image/png": "[encoded data removed]"
          },
          "metadata": {}
        }
      ],
      "source": [
        "#¿Hay relación entre la diabetes y el Índice de Masa Corporal?\n",
        "\n",
        "plt.figure(figsize = (12,4))\n",
        "sns.boxplot(data=dfdiabetes_sin_outliers, x='Diabetes', y='BMI')\n",
        "\n",
        "#Coloco título y nombro los ejes\n",
        "\n",
        "plt.title('Boxplot de BMI por Diabetes')\n",
        "plt.xlabel('Diabetes')\n",
        "plt.ylabel('BMI')\n",
        "\n",
        "#Muestro el gráfico\n",
        "\n",
        "plt.show()"
      ]
    },
    {
      "cell_type": "markdown",
      "metadata": {
        "id": "KqdMP9XWdIgS"
      },
      "source": [
        "En este caso, podemos ver una leve diferencia en el IMC de los no diabéticos, diabéticos tipo 1 y 2. Como es natural, la diabetes tipo 2 es la que alcanza los valores de IMC, muchos llegando a valores de sobrepeso y obesidad (descontamos los valores alejados, que son valores sin un sentido físico para este caso)."
      ]
    },
    {
      "cell_type": "code",
      "execution_count": 18,
      "metadata": {
        "colab": {
          "base_uri": "https://localhost:8080/",
          "height": 411
        },
        "id": "_mjtvk0G0gs4",
        "outputId": "dd8f35a9-908e-4231-c6eb-b5da05b7b0ed"
      },
      "outputs": [
        {
          "output_type": "display_data",
          "data": {
            "text/plain": [
              "<Figure size 1200x400 with 1 Axes>"
            ],
            "image/png": "[encoded data removed]"
          },
          "metadata": {}
        }
      ],
      "source": [
        "#¿Hay relación entre la diabetes y la salud física de la persona?\n",
        "\n",
        "plt.figure(figsize = (12,4))\n",
        "sns.boxplot(data = dfdiabetes_sin_outliers, x='Diabetes', y='PhysHlth')\n",
        "\n",
        "#Coloco título y nombro los ejes\n",
        "\n",
        "plt.title('Boxplot de Diabetes vs Salud Física')\n",
        "plt.xlabel('Diabetes')\n",
        "plt.ylabel('Salud Física')\n",
        "\n",
        "#Muestro el gráfico\n",
        "\n",
        "plt.show()"
      ]
    },
    {
      "cell_type": "markdown",
      "metadata": {
        "id": "8lAtNCtJeoii"
      },
      "source": [
        "En este caso, observamos un rango de valores relativamente amplio para diabetes tipo 1 y 2, pero siendo diabetes 2 la que alcanza los valores más altos de peor salud física, lo cual es esperable."
      ]
    },
    {
      "cell_type": "code",
      "execution_count": 19,
      "metadata": {
        "colab": {
          "base_uri": "https://localhost:8080/",
          "height": 410
        },
        "id": "Xm2NVkvb6lPR",
        "outputId": "1a797ed3-d944-4c85-9d99-ff4f90bc4fbc"
      },
      "outputs": [
        {
          "output_type": "display_data",
          "data": {
            "text/plain": [
              "<Figure size 1200x400 with 1 Axes>"
            ],
            "image/png": "[encoded data removed]"
          },
          "metadata": {}
        }
      ],
      "source": [
        "#¿Hay relación entre la diabetes y la salud mental de la persona?\n",
        "\n",
        "plt.figure(figsize = (12,4))\n",
        "sns.boxplot(data = dfdiabetes_sin_outliers, x='Diabetes', y='MentHlth')\n",
        "\n",
        "#Coloco título y nombro los ejes\n",
        "\n",
        "plt.title('Boxplot de Diabetes vs Salud Mental')\n",
        "plt.xlabel('Diabetes')\n",
        "plt.ylabel('Salud Mental')\n",
        "\n",
        "#Muestro el gráfico\n",
        "\n",
        "plt.show()"
      ]
    },
    {
      "cell_type": "markdown",
      "metadata": {
        "id": "BjDzJ3zLG1iE"
      },
      "source": [
        "En este caso, no pueden verse diferencias muy significativas entre los tres grupos, tal vez el grupo de diabetes tipo 1 tiene valores de salud mental ligeramente más alto."
      ]
    },
    {
      "cell_type": "code",
      "execution_count": 37,
      "metadata": {
        "colab": {
          "base_uri": "https://localhost:8080/",
          "height": 411
        },
        "id": "8qufrakPHZyX",
        "outputId": "c9d1c118-4597-4252-f982-071ba6b3ef1c"
      },
      "outputs": [
        {
          "output_type": "display_data",
          "data": {
            "text/plain": [
              "<Figure size 1200x400 with 1 Axes>"
            ],
            "image/png": "[encoded data removed]"
          },
          "metadata": {}
        }
      ],
      "source": [
        "#¿Hay relación entre la diabetes y la educación de la persona?\n",
        "\n",
        "plt.figure(figsize = (12,4))\n",
        "sns.boxplot(data = dfdiabetes_sin_outliers, x='Diabetes', y='Education')\n",
        "#sns.set_palette('Dark2', 7)\n",
        "\n",
        "#Coloco título y nombro los ejes\n",
        "\n",
        "plt.title('Boxplot de Diabetes vs Educación')\n",
        "plt.xlabel('Diabetes')\n",
        "plt.ylabel('Educación')\n",
        "\n",
        "#Muestro el gráfico\n",
        "\n",
        "plt.show()"
      ]
    },
    {
      "cell_type": "markdown",
      "metadata": {
        "id": "dGZFerA-H3Bu"
      },
      "source": [
        "En este caso, no puede verse diferencia entre los tres grupos, por lo que cabe pensar que no hay relación entre la diabetes y el nivel educativo de la persona en cuestión."
      ]
    },
    {
      "cell_type": "code",
      "execution_count": 21,
      "metadata": {
        "colab": {
          "base_uri": "https://localhost:8080/",
          "height": 539
        },
        "id": "edJ7ENYOEZh3",
        "outputId": "77f4b7b9-e225-4915-e4c4-3a77a93ec820"
      },
      "outputs": [
        {
          "output_type": "display_data",
          "data": {
            "text/plain": [
              "<Figure size 640x480 with 1 Axes>"
            ],
            "image/png": "[encoded data removed]"
          },
          "metadata": {}
        },
        {
          "output_type": "stream",
          "name": "stdout",
          "text": [
            "Diabetes\n",
            "0.0    57526\n",
            "2.0     9243\n",
            "1.0     1257\n",
            "Name: count, dtype: int64\n"
          ]
        }
      ],
      "source": [
        "#Si tomamos la población de fumadores, ¿se puede concluir que hay una gran proporción de diabéticos entre ellos?\n",
        "\n",
        "Smokers = dfdiabetes_sin_outliers[dfdiabetes_sin_outliers['Smoker'] == 1]\n",
        "\n",
        "conteo_diabetes = Smokers['Diabetes'].value_counts()\n",
        "\n",
        "#Seteamos los ejes y graficamos\n",
        "\n",
        "fig, ax = plt.subplots()\n",
        "ax.bar(conteo_diabetes.index, conteo_diabetes.values)\n",
        "ax.set_xticks(conteo_diabetes.index)\n",
        "ax.set_xticklabels(['Sin diabetes', 'Diabetes tipo 2', 'Diabetes tipo 1'])\n",
        "ax.set_ylabel('Número de personas')\n",
        "ax.set_title('Fumadores con y sin diabetes')\n",
        "plt.show()\n",
        "print(conteo_diabetes)"
      ]
    },
    {
      "cell_type": "markdown",
      "metadata": {
        "id": "rIlkazOWf30C"
      },
      "source": [
        "Observamos que el grupo más grande de fumadores no tiene diabetes. Los diabéticos tipo 2 que son fumadores representan el segundo escalafón en lo referido a cantidad. Finalmente, la cantidad de diabéticos tipo 1 que fuman es muy pequeña."
      ]
    },
    {
      "cell_type": "code",
      "execution_count": 22,
      "metadata": {
        "colab": {
          "base_uri": "https://localhost:8080/",
          "height": 539
        },
        "id": "y9g764WxKHLm",
        "outputId": "9a45db7f-f429-4380-b477-dc396317ca6a"
      },
      "outputs": [
        {
          "output_type": "display_data",
          "data": {
            "text/plain": [
              "<Figure size 640x480 with 1 Axes>"
            ],
            "image/png": "[encoded data removed]"
          },
          "metadata": {}
        },
        {
          "output_type": "stream",
          "name": "stdout",
          "text": [
            "Diabetes\n",
            "0.0    50895\n",
            "2.0    12026\n",
            "1.0     1646\n",
            "Name: count, dtype: int64\n"
          ]
        }
      ],
      "source": [
        "#Si tomamos la población de gente con el colesterol alto, ¿se puede concluir que hay una gran proporción de diabéticos entre ellos?\n",
        "\n",
        "#Contamos cuántas personas hay con colesterol alto y observamos cuántas hay con cada tipo de diabetes\n",
        "\n",
        "H_chol = dfdiabetes_sin_outliers[dfdiabetes_sin_outliers['HighChol'] == 1]\n",
        "\n",
        "conteo_diabetes_hc = H_chol['Diabetes'].value_counts()\n",
        "\n",
        "#Seteamos ejes, título y graficamos\n",
        "\n",
        "fig, ax = plt.subplots()\n",
        "ax.bar(conteo_diabetes_hc.index, conteo_diabetes_hc.values)\n",
        "ax.set_xticks(conteo_diabetes_hc.index)\n",
        "ax.set_xticklabels(['Sin diabetes', 'Diabetes tipo 2', 'Diabetes tipo 1'])\n",
        "ax.set_ylabel('Número de personas')\n",
        "ax.set_title('Colesterol alto')\n",
        "plt.show()\n",
        "print(conteo_diabetes_hc)"
      ]
    },
    {
      "cell_type": "markdown",
      "metadata": {
        "id": "Y6ZNpqyFh2Wp"
      },
      "source": [
        "Este caso se parece bastante al anterior, la gente con colesterol alto que no tiene diabetes representa la mayoría de la muestra (probablementente debido a la naturaleza del dataset) y la gente con diabetes tipo 2 en segundo lugar, lo cual tiene sentido, dado que sabemos cómo afecta el colesterol alto a provocar diabetes tipo 2."
      ]
    },
    {
      "cell_type": "code",
      "execution_count": 23,
      "metadata": {
        "colab": {
          "base_uri": "https://localhost:8080/",
          "height": 540
        },
        "id": "pNZxnUMsMkwN",
        "outputId": "969438db-c222-432b-d837-edfb6e13ccbc"
      },
      "outputs": [
        {
          "output_type": "display_data",
          "data": {
            "text/plain": [
              "<Figure size 640x480 with 1 Axes>"
            ],
            "image/png": "[encoded data removed]"
          },
          "metadata": {}
        },
        {
          "output_type": "stream",
          "name": "stdout",
          "text": [
            "Diabetes\n",
            "0.0    49655\n",
            "2.0    13569\n",
            "1.0     1667\n",
            "Name: count, dtype: int64\n"
          ]
        }
      ],
      "source": [
        "#Si tomamos la población de gente con presión sanguínea alta, ¿se puede concluir que hay una gran proporción de diabéticos entre ellos?\n",
        "\n",
        "#Contamos cuántas personas hay con presión sanguínea alta y observamos cuántas hay con cada tipo de diabetes\n",
        "\n",
        "H_BloodPress = dfdiabetes_sin_outliers[dfdiabetes_sin_outliers['HighBP'] == 1]\n",
        "\n",
        "conteo_diabetes_hbp = H_BloodPress['Diabetes'].value_counts()\n",
        "\n",
        "#Graficamos utilizando otro gráfico de barras.\n",
        "\n",
        "fig, ax = plt.subplots()\n",
        "ax.bar(conteo_diabetes_hbp.index, conteo_diabetes_hbp.values)\n",
        "ax.set_xticks(conteo_diabetes_hbp.index)\n",
        "ax.set_xticklabels(['Sin diabetes', 'Diabetes tipo 2', 'Diabetes tipo 1'])\n",
        "ax.set_ylabel('Número de personas')\n",
        "ax.set_title('Presión sanguínea alta')\n",
        "plt.show()\n",
        "print(conteo_diabetes_hbp)"
      ]
    },
    {
      "cell_type": "markdown",
      "metadata": {
        "id": "1B0y4ylrjBUX"
      },
      "source": [
        "Otra vez se puede ver un gráfico muy parecido a los anteriores, podemos ver cierta relación entre presión sanguínea alta y diabetes tipo 2, lo cual no debe sorprendernos. Otra vez el grupo más grande es el que no tiene diabetes y el de diabetes tipo 1 es un grupo muy pequeño."
      ]
    },
    {
      "cell_type": "code",
      "execution_count": 24,
      "metadata": {
        "colab": {
          "base_uri": "https://localhost:8080/",
          "height": 539
        },
        "id": "RhO5ei4mJmTx",
        "outputId": "a0be0ad6-0040-443f-b3a3-4d4059b91b35"
      },
      "outputs": [
        {
          "output_type": "display_data",
          "data": {
            "text/plain": [
              "<Figure size 640x480 with 1 Axes>"
            ],
            "image/png": "[encoded data removed]"
          },
          "metadata": {}
        },
        {
          "output_type": "stream",
          "name": "stdout",
          "text": [
            "Diabetes\n",
            "0.0    108127\n",
            "2.0     14635\n",
            "1.0      2202\n",
            "Name: count, dtype: int64\n"
          ]
        }
      ],
      "source": [
        "#La gente que come verduras al menos una vez al día, ¿tiene una menor tendencia a tener diabetes?\n",
        "\n",
        "#Contamos cuántas personas comen verduras y observamos cuántas hay con cada tipo de diabetes.\n",
        "\n",
        "Veggie = dfdiabetes_sin_outliers[dfdiabetes_sin_outliers['Veggies'] == 1]\n",
        "\n",
        "conteo_diabetes_veggies = Veggie['Diabetes'].value_counts()\n",
        "\n",
        "#Graficamos utilizando otro gráfico de barras.\n",
        "\n",
        "fig, ax = plt.subplots()\n",
        "ax.bar(conteo_diabetes_veggies.index, conteo_diabetes_veggies.values)\n",
        "ax.set_xticks(conteo_diabetes_veggies.index)\n",
        "ax.set_xticklabels(['Sin diabetes', 'Diabetes tipo 2', 'Diabetes tipo 1'])\n",
        "ax.set_ylabel('Número de personas')\n",
        "ax.set_title('Veggies')\n",
        "plt.show()\n",
        "print(conteo_diabetes_veggies)"
      ]
    },
    {
      "cell_type": "code",
      "execution_count": 25,
      "metadata": {
        "colab": {
          "base_uri": "https://localhost:8080/",
          "height": 521
        },
        "id": "6031LUldNefq",
        "outputId": "2f75ef5e-f24e-4f47-ac5a-3a4319d5ffec"
      },
      "outputs": [
        {
          "output_type": "display_data",
          "data": {
            "text/plain": [
              "<Figure size 640x480 with 1 Axes>"
            ],
            "image/png": "[encoded data removed]"
          },
          "metadata": {}
        },
        {
          "output_type": "stream",
          "name": "stdout",
          "text": [
            "Sex\n",
            "0.0    1421\n",
            "1.0    1330\n",
            "Name: count, dtype: int64\n"
          ]
        }
      ],
      "source": [
        "#¿Hay una mayor tendencia a tener diabetes según el sexo de la persona?\n",
        "\n",
        "\n",
        "Diabetes_count = dfdiabetes_sin_outliers[dfdiabetes_sin_outliers['Diabetes'] == 1]\n",
        "\n",
        "conteo_diabetes_genero = Diabetes_count['Sex'].value_counts()\n",
        "\n",
        "#Graficamos utilizando otro gráfico de barras.\n",
        "\n",
        "fig, ax = plt.subplots()\n",
        "ax.bar(conteo_diabetes_genero.index, conteo_diabetes_genero.values)\n",
        "ax.set_xticks(conteo_diabetes_genero.index)\n",
        "ax.set_xticklabels(['Hombre', 'Mujer'])\n",
        "ax.set_ylabel('Número de personas')\n",
        "ax.set_title('Género')\n",
        "plt.show()\n",
        "print(conteo_diabetes_genero)"
      ]
    },
    {
      "cell_type": "markdown",
      "metadata": {
        "id": "m_sZAtY8OdEx"
      },
      "source": [
        "En este gráfico puede verse una mayor tendencia de los hombres a tener diabetes."
      ]
    },
    {
      "cell_type": "markdown",
      "metadata": {
        "id": "NKV6A25L3MSB"
      },
      "source": [
        "#9 - Feature Engineering\n",
        "\n",
        "El propósito de esta sección es utilizar Polynomial Features y \"Canaritos\" para encontrar nuevas features que tengan importancia para el modelo, así como descartar aquellas que no son de peso."
      ]
    },
    {
      "cell_type": "code",
      "execution_count": null,
      "metadata": {
        "colab": {
          "base_uri": "https://localhost:8080/"
        },
        "id": "bi1YeLS07uIK",
        "outputId": "8f20420a-d5a4-4964-f9bf-30d81d87b3d6"
      },
      "outputs": [
        {
          "output_type": "stream",
          "name": "stdout",
          "text": [
            "        HeartDiseaseorAttack  HighBP  HighChol  CholCheck   BMI  Smoker  \\\n",
            "0                        0.0     0.0       0.0        0.0  25.0     1.0   \n",
            "1                        0.0     1.0       0.0        1.0  27.0     0.0   \n",
            "2                        0.0     1.0       1.0        1.0  24.0     0.0   \n",
            "3                        0.0     1.0       1.0        1.0  25.0     1.0   \n",
            "4                        0.0     1.0       1.0        1.0  25.0     1.0   \n",
            "...                      ...     ...       ...        ...   ...     ...   \n",
            "155004                   0.0     0.0       0.0        1.0  27.0     0.0   \n",
            "155005                   0.0     1.0       1.0        1.0  18.0     0.0   \n",
            "155006                   0.0     0.0       0.0        1.0  28.0     0.0   \n",
            "155007                   0.0     1.0       0.0        1.0  23.0     0.0   \n",
            "155008                   1.0     1.0       1.0        1.0  25.0     0.0   \n",
            "\n",
            "        Stroke  PhysActivity  Fruits  Veggies  ...  canarito_10  canarito_11  \\\n",
            "0          0.0           1.0     0.0      0.0  ...     0.532960     0.892139   \n",
            "1          0.0           1.0     1.0      1.0  ...     0.582583     0.566027   \n",
            "2          0.0           1.0     1.0      1.0  ...     0.301598     0.356472   \n",
            "3          0.0           1.0     1.0      1.0  ...     0.704737     0.271750   \n",
            "4          0.0           1.0     0.0      1.0  ...     0.863203     0.738585   \n",
            "...        ...           ...     ...      ...  ...          ...          ...   \n",
            "155004     0.0           0.0     0.0      1.0  ...     0.685688     0.427777   \n",
            "155005     0.0           0.0     0.0      0.0  ...     0.146483     0.203798   \n",
            "155006     0.0           1.0     1.0      0.0  ...     0.822135     0.725040   \n",
            "155007     0.0           0.0     1.0      1.0  ...     0.495217     0.580461   \n",
            "155008     0.0           1.0     1.0      0.0  ...     0.400774     0.894455   \n",
            "\n",
            "        canarito_12  canarito_13  canarito_14  canarito_15  canarito_16  \\\n",
            "0          0.242094     0.417621     0.867945     0.286330     0.137700   \n",
            "1          0.371843     0.452964     0.817268     0.102007     0.917156   \n",
            "2          0.254119     0.018077     0.971585     0.583714     0.062236   \n",
            "3          0.714432     0.541205     0.807250     0.824607     0.520331   \n",
            "4          0.037518     0.148563     0.896370     0.518680     0.518838   \n",
            "...             ...          ...          ...          ...          ...   \n",
            "155004     0.919306     0.610742     0.806951     0.507998     0.991543   \n",
            "155005     0.654425     0.987074     0.005544     0.658661     0.714075   \n",
            "155006     0.755286     0.120252     0.547681     0.907557     0.317152   \n",
            "155007     0.806652     0.977670     0.196098     0.962889     0.574596   \n",
            "155008     0.966283     0.327155     0.673547     0.656958     0.859094   \n",
            "\n",
            "        canarito_17  canarito_18  canarito_19  \n",
            "0          0.050794     0.928291     0.779950  \n",
            "1          0.043871     0.574549     0.180499  \n",
            "2          0.625930     0.605927     0.276895  \n",
            "3          0.080447     0.069915     0.446768  \n",
            "4          0.010981     0.242010     0.739946  \n",
            "...             ...          ...          ...  \n",
            "155004     0.849922     0.274251     0.211459  \n",
            "155005     0.715356     0.211474     0.175655  \n",
            "155006     0.078620     0.142473     0.396412  \n",
            "155007     0.273007     0.819575     0.288656  \n",
            "155008     0.307095     0.071110     0.750034  \n",
            "\n",
            "[155009 rows x 272 columns]\n"
          ]
        }
      ],
      "source": [
        "#Asignación de variables\n",
        "\n",
        "X = dfdiabetes_sin_outliers.drop('Diabetes', axis = 1)\n",
        "\n",
        "Y = dfdiabetes_sin_outliers['Diabetes']\n",
        "\n",
        "#Multiplico las features hasta grado 2.\n",
        "\n",
        "poly = PolynomialFeatures(degree = 2, include_bias = False)\n",
        "\n",
        "#columnas_numericas = X.select_dtypes(include=['float64'])\n",
        "\n",
        "#indices = list(columnas_numericas.columns)\n",
        "\n",
        "X_poly = poly.fit_transform(X)\n",
        "\n",
        "#Paso los datos a un dataframe nuevo\n",
        "\n",
        "X = pd.DataFrame(X_poly, columns = poly.get_feature_names_out(input_features = X.columns))\n",
        "\n",
        "\n",
        "# Genero 20 canaritos (variables con ruido)\n",
        "\n",
        "np.random.seed(10000)\n",
        "canaritos = pd.DataFrame(np.random.rand(X.shape[0], 20), columns=[f'canarito_{i}' for i in range(20)])\n",
        "\n",
        "# Agregar los canaritos a X\n",
        "X = pd.concat([X, canaritos], axis=1)\n",
        "\n",
        "# Dividir en training y testing\n",
        "X_train, X_test, y_train, y_test = train_test_split(X, Y, test_size = 0.3, random_state = 10000)\n",
        "\n",
        "# Elijo Catboost para predecir, dado que es bueno para predecir categorías\n",
        "\n",
        "catboost = CatBoostClassifier(iterations = 100, learning_rate = 0.1, depth = 10, verbose = False)\n",
        "\n",
        "# Ajustar modelo\n",
        "catboost.fit(X_train, y_train)\n",
        "\n",
        "#Imprimo X con los polynomial features y canaritos\n",
        "\n",
        "print(X)\n"
      ]
    },
    {
      "cell_type": "code",
      "execution_count": null,
      "metadata": {
        "colab": {
          "base_uri": "https://localhost:8080/",
          "height": 424
        },
        "id": "5b4KjDYHQRTk",
        "outputId": "13ab2e50-d3b7-424d-e58a-312388509b0e"
      },
      "outputs": [
        {
          "output_type": "execute_result",
          "data": {
            "text/plain": [
              "                        Feature  Importance\n",
              "221                 GenHlth Age    4.630168\n",
              "96                CholCheck Age    2.759188\n",
              "64                 HighChol BMI    2.483085\n",
              "108                 BMI GenHlth    2.333096\n",
              "45                   HighBP BMI    2.310525\n",
              "..                          ...         ...\n",
              "191  HvyAlcoholConsump PhysHlth    0.000000\n",
              "70   HighChol HvyAlcoholConsump    0.000000\n",
              "72         HighChol NoDocbcCost    0.000000\n",
              "181            Veggies DiffWalk    0.000000\n",
              "136    Stroke HvyAlcoholConsump    0.000000\n",
              "\n",
              "[272 rows x 2 columns]"
            ],
            "text/html": [
              "\n",
              "  <div id=\"df-6c1aa72d-1722-4aaf-b68a-1ba5e735bdb1\" class=\"colab-df-container\">\n",
              "    <div>\n",
              "<style scoped>\n",
              "    .dataframe tbody tr th:only-of-type {\n",
              "        vertical-align: middle;\n",
              "    }\n",
              "\n",
              "    .dataframe tbody tr th {\n",
              "        vertical-align: top;\n",
              "    }\n",
              "\n",
              "    .dataframe thead th {\n",
              "        text-align: right;\n",
              "    }\n",
              "</style>\n",
              "<table border=\"1\" class=\"dataframe\">\n",
              "  <thead>\n",
              "    <tr style=\"text-align: right;\">\n",
              "      <th></th>\n",
              "      <th>Feature</th>\n",
              "      <th>Importance</th>\n",
              "    </tr>\n",
              "  </thead>\n",
              "  <tbody>\n",
              "    <tr>\n",
              "      <th>221</th>\n",
              "      <td>GenHlth Age</td>\n",
              "      <td>4.630168</td>\n",
              "    </tr>\n",
              "    <tr>\n",
              "      <th>96</th>\n",
              "      <td>CholCheck Age</td>\n",
              "      <td>2.759188</td>\n",
              "    </tr>\n",
              "    <tr>\n",
              "      <th>64</th>\n",
              "      <td>HighChol BMI</td>\n",
              "      <td>2.483085</td>\n",
              "    </tr>\n",
              "    <tr>\n",
              "      <th>108</th>\n",
              "      <td>BMI GenHlth</td>\n",
              "      <td>2.333096</td>\n",
              "    </tr>\n",
              "    <tr>\n",
              "      <th>45</th>\n",
              "      <td>HighBP BMI</td>\n",
              "      <td>2.310525</td>\n",
              "    </tr>\n",
              "    <tr>\n",
              "      <th>...</th>\n",
              "      <td>...</td>\n",
              "      <td>...</td>\n",
              "    </tr>\n",
              "    <tr>\n",
              "      <th>191</th>\n",
              "      <td>HvyAlcoholConsump PhysHlth</td>\n",
              "      <td>0.000000</td>\n",
              "    </tr>\n",
              "    <tr>\n",
              "      <th>70</th>\n",
              "      <td>HighChol HvyAlcoholConsump</td>\n",
              "      <td>0.000000</td>\n",
              "    </tr>\n",
              "    <tr>\n",
              "      <th>72</th>\n",
              "      <td>HighChol NoDocbcCost</td>\n",
              "      <td>0.000000</td>\n",
              "    </tr>\n",
              "    <tr>\n",
              "      <th>181</th>\n",
              "      <td>Veggies DiffWalk</td>\n",
              "      <td>0.000000</td>\n",
              "    </tr>\n",
              "    <tr>\n",
              "      <th>136</th>\n",
              "      <td>Stroke HvyAlcoholConsump</td>\n",
              "      <td>0.000000</td>\n",
              "    </tr>\n",
              "  </tbody>\n",
              "</table>\n",
              "<p>272 rows × 2 columns</p>\n",
              "</div>\n",
              "    <div class=\"colab-df-buttons\">\n",
              "\n",
              "  <div class=\"colab-df-container\">\n",
              "    <button class=\"colab-df-convert\" onclick=\"convertToInteractive('df-6c1aa72d-1722-4aaf-b68a-1ba5e735bdb1')\"\n",
              "            title=\"Convert this dataframe to an interactive table.\"\n",
              "            style=\"display:none;\">\n",
              "\n",
              "  <svg xmlns=\"http://www.w3.org/2000/svg\" height=\"24px\" viewBox=\"0 -960 960 960\">\n",
              "    <path d=\"M120-120v-720h720v720H120Zm60-500h600v-160H180v160Zm220 220h160v-160H400v160Zm0 220h160v-160H400v160ZM180-400h160v-160H180v160Zm440 0h160v-160H620v160ZM180-180h160v-160H180v160Zm440 0h160v-160H620v160Z\"/>\n",
              "  </svg>\n",
              "    </button>\n",
              "\n",
              "  <style>\n",
              "    .colab-df-container {\n",
              "      display:flex;\n",
              "      gap: 12px;\n",
              "    }\n",
              "\n",
              "    .colab-df-convert {\n",
              "      background-color: #E8F0FE;\n",
              "      border: none;\n",
              "      border-radius: 50%;\n",
              "      cursor: pointer;\n",
              "      display: none;\n",
              "      fill: #1967D2;\n",
              "      height: 32px;\n",
              "      padding: 0 0 0 0;\n",
              "      width: 32px;\n",
              "    }\n",
              "\n",
              "    .colab-df-convert:hover {\n",
              "      background-color: #E2EBFA;\n",
              "      box-shadow: 0px 1px 2px rgba(60, 64, 67, 0.3), 0px 1px 3px 1px rgba(60, 64, 67, 0.15);\n",
              "      fill: #174EA6;\n",
              "    }\n",
              "\n",
              "    .colab-df-buttons div {\n",
              "      margin-bottom: 4px;\n",
              "    }\n",
              "\n",
              "    [theme=dark] .colab-df-convert {\n",
              "      background-color: #3B4455;\n",
              "      fill: #D2E3FC;\n",
              "    }\n",
              "\n",
              "    [theme=dark] .colab-df-convert:hover {\n",
              "      background-color: #434B5C;\n",
              "      box-shadow: 0px 1px 3px 1px rgba(0, 0, 0, 0.15);\n",
              "      filter: drop-shadow(0px 1px 2px rgba(0, 0, 0, 0.3));\n",
              "      fill: #FFFFFF;\n",
              "    }\n",
              "  </style>\n",
              "\n",
              "    <script>\n",
              "      const buttonEl =\n",
              "        document.querySelector('#df-6c1aa72d-1722-4aaf-b68a-1ba5e735bdb1 button.colab-df-convert');\n",
              "      buttonEl.style.display =\n",
              "        google.colab.kernel.accessAllowed ? 'block' : 'none';\n",
              "\n",
              "      async function convertToInteractive(key) {\n",
              "        const element = document.querySelector('#df-6c1aa72d-1722-4aaf-b68a-1ba5e735bdb1');\n",
              "        const dataTable =\n",
              "          await google.colab.kernel.invokeFunction('convertToInteractive',\n",
              "                                                    [key], {});\n",
              "        if (!dataTable) return;\n",
              "\n",
              "        const docLinkHtml = 'Like what you see? Visit the ' +\n",
              "          '<a target=\"_blank\" href=https://colab.research.google.com/notebooks/data_table.ipynb>data table notebook</a>'\n",
              "          + ' to learn more about interactive tables.';\n",
              "        element.innerHTML = '';\n",
              "        dataTable['output_type'] = 'display_data';\n",
              "        await google.colab.output.renderOutput(dataTable, element);\n",
              "        const docLink = document.createElement('div');\n",
              "        docLink.innerHTML = docLinkHtml;\n",
              "        element.appendChild(docLink);\n",
              "      }\n",
              "    </script>\n",
              "  </div>\n",
              "\n",
              "\n",
              "<div id=\"df-effa2eb3-c610-45a8-b323-32a45e439adb\">\n",
              "  <button class=\"colab-df-quickchart\" onclick=\"quickchart('df-effa2eb3-c610-45a8-b323-32a45e439adb')\"\n",
              "            title=\"Suggest charts\"\n",
              "            style=\"display:none;\">\n",
              "\n",
              "<svg xmlns=\"http://www.w3.org/2000/svg\" height=\"24px\"viewBox=\"0 0 24 24\"\n",
              "     width=\"24px\">\n",
              "    <g>\n",
              "        <path d=\"M19 3H5c-1.1 0-2 .9-2 2v14c0 1.1.9 2 2 2h14c1.1 0 2-.9 2-2V5c0-1.1-.9-2-2-2zM9 17H7v-7h2v7zm4 0h-2V7h2v10zm4 0h-2v-4h2v4z\"/>\n",
              "    </g>\n",
              "</svg>\n",
              "  </button>\n",
              "\n",
              "<style>\n",
              "  .colab-df-quickchart {\n",
              "      --bg-color: #E8F0FE;\n",
              "      --fill-color: #1967D2;\n",
              "      --hover-bg-color: #E2EBFA;\n",
              "      --hover-fill-color: #174EA6;\n",
              "      --disabled-fill-color: #AAA;\n",
              "      --disabled-bg-color: #DDD;\n",
              "  }\n",
              "\n",
              "  [theme=dark] .colab-df-quickchart {\n",
              "      --bg-color: #3B4455;\n",
              "      --fill-color: #D2E3FC;\n",
              "      --hover-bg-color: #434B5C;\n",
              "      --hover-fill-color: #FFFFFF;\n",
              "      --disabled-bg-color: #3B4455;\n",
              "      --disabled-fill-color: #666;\n",
              "  }\n",
              "\n",
              "  .colab-df-quickchart {\n",
              "    background-color: var(--bg-color);\n",
              "    border: none;\n",
              "    border-radius: 50%;\n",
              "    cursor: pointer;\n",
              "    display: none;\n",
              "    fill: var(--fill-color);\n",
              "    height: 32px;\n",
              "    padding: 0;\n",
              "    width: 32px;\n",
              "  }\n",
              "\n",
              "  .colab-df-quickchart:hover {\n",
              "    background-color: var(--hover-bg-color);\n",
              "    box-shadow: 0 1px 2px rgba(60, 64, 67, 0.3), 0 1px 3px 1px rgba(60, 64, 67, 0.15);\n",
              "    fill: var(--button-hover-fill-color);\n",
              "  }\n",
              "\n",
              "  .colab-df-quickchart-complete:disabled,\n",
              "  .colab-df-quickchart-complete:disabled:hover {\n",
              "    background-color: var(--disabled-bg-color);\n",
              "    fill: var(--disabled-fill-color);\n",
              "    box-shadow: none;\n",
              "  }\n",
              "\n",
              "  .colab-df-spinner {\n",
              "    border: 2px solid var(--fill-color);\n",
              "    border-color: transparent;\n",
              "    border-bottom-color: var(--fill-color);\n",
              "    animation:\n",
              "      spin 1s steps(1) infinite;\n",
              "  }\n",
              "\n",
              "  @keyframes spin {\n",
              "    0% {\n",
              "      border-color: transparent;\n",
              "      border-bottom-color: var(--fill-color);\n",
              "      border-left-color: var(--fill-color);\n",
              "    }\n",
              "    20% {\n",
              "      border-color: transparent;\n",
              "      border-left-color: var(--fill-color);\n",
              "      border-top-color: var(--fill-color);\n",
              "    }\n",
              "    30% {\n",
              "      border-color: transparent;\n",
              "      border-left-color: var(--fill-color);\n",
              "      border-top-color: var(--fill-color);\n",
              "      border-right-color: var(--fill-color);\n",
              "    }\n",
              "    40% {\n",
              "      border-color: transparent;\n",
              "      border-right-color: var(--fill-color);\n",
              "      border-top-color: var(--fill-color);\n",
              "    }\n",
              "    60% {\n",
              "      border-color: transparent;\n",
              "      border-right-color: var(--fill-color);\n",
              "    }\n",
              "    80% {\n",
              "      border-color: transparent;\n",
              "      border-right-color: var(--fill-color);\n",
              "      border-bottom-color: var(--fill-color);\n",
              "    }\n",
              "    90% {\n",
              "      border-color: transparent;\n",
              "      border-bottom-color: var(--fill-color);\n",
              "    }\n",
              "  }\n",
              "</style>\n",
              "\n",
              "  <script>\n",
              "    async function quickchart(key) {\n",
              "      const quickchartButtonEl =\n",
              "        document.querySelector('#' + key + ' button');\n",
              "      quickchartButtonEl.disabled = true;  // To prevent multiple clicks.\n",
              "      quickchartButtonEl.classList.add('colab-df-spinner');\n",
              "      try {\n",
              "        const charts = await google.colab.kernel.invokeFunction(\n",
              "            'suggestCharts', [key], {});\n",
              "      } catch (error) {\n",
              "        console.error('Error during call to suggestCharts:', error);\n",
              "      }\n",
              "      quickchartButtonEl.classList.remove('colab-df-spinner');\n",
              "      quickchartButtonEl.classList.add('colab-df-quickchart-complete');\n",
              "    }\n",
              "    (() => {\n",
              "      let quickchartButtonEl =\n",
              "        document.querySelector('#df-effa2eb3-c610-45a8-b323-32a45e439adb button');\n",
              "      quickchartButtonEl.style.display =\n",
              "        google.colab.kernel.accessAllowed ? 'block' : 'none';\n",
              "    })();\n",
              "  </script>\n",
              "</div>\n",
              "\n",
              "  <div id=\"id_bc9d02f4-d0d5-4768-8c1d-1f7e8e004a23\">\n",
              "    <style>\n",
              "      .colab-df-generate {\n",
              "        background-color: #E8F0FE;\n",
              "        border: none;\n",
              "        border-radius: 50%;\n",
              "        cursor: pointer;\n",
              "        display: none;\n",
              "        fill: #1967D2;\n",
              "        height: 32px;\n",
              "        padding: 0 0 0 0;\n",
              "        width: 32px;\n",
              "      }\n",
              "\n",
              "      .colab-df-generate:hover {\n",
              "        background-color: #E2EBFA;\n",
              "        box-shadow: 0px 1px 2px rgba(60, 64, 67, 0.3), 0px 1px 3px 1px rgba(60, 64, 67, 0.15);\n",
              "        fill: #174EA6;\n",
              "      }\n",
              "\n",
              "      [theme=dark] .colab-df-generate {\n",
              "        background-color: #3B4455;\n",
              "        fill: #D2E3FC;\n",
              "      }\n",
              "\n",
              "      [theme=dark] .colab-df-generate:hover {\n",
              "        background-color: #434B5C;\n",
              "        box-shadow: 0px 1px 3px 1px rgba(0, 0, 0, 0.15);\n",
              "        filter: drop-shadow(0px 1px 2px rgba(0, 0, 0, 0.3));\n",
              "        fill: #FFFFFF;\n",
              "      }\n",
              "    </style>\n",
              "    <button class=\"colab-df-generate\" onclick=\"generateWithVariable('feature_importances')\"\n",
              "            title=\"Generate code using this dataframe.\"\n",
              "            style=\"display:none;\">\n",
              "\n",
              "  <svg xmlns=\"http://www.w3.org/2000/svg\" height=\"24px\"viewBox=\"0 0 24 24\"\n",
              "       width=\"24px\">\n",
              "    <path d=\"M7,19H8.4L18.45,9,17,7.55,7,17.6ZM5,21V16.75L18.45,3.32a2,2,0,0,1,2.83,0l1.4,1.43a1.91,1.91,0,0,1,.58,1.4,1.91,1.91,0,0,1-.58,1.4L9.25,21ZM18.45,9,17,7.55Zm-12,3A5.31,5.31,0,0,0,4.9,8.1,5.31,5.31,0,0,0,1,6.5,5.31,5.31,0,0,0,4.9,4.9,5.31,5.31,0,0,0,6.5,1,5.31,5.31,0,0,0,8.1,4.9,5.31,5.31,0,0,0,12,6.5,5.46,5.46,0,0,0,6.5,12Z\"/>\n",
              "  </svg>\n",
              "    </button>\n",
              "    <script>\n",
              "      (() => {\n",
              "      const buttonEl =\n",
              "        document.querySelector('#id_bc9d02f4-d0d5-4768-8c1d-1f7e8e004a23 button.colab-df-generate');\n",
              "      buttonEl.style.display =\n",
              "        google.colab.kernel.accessAllowed ? 'block' : 'none';\n",
              "\n",
              "      buttonEl.onclick = () => {\n",
              "        google.colab.notebook.generateWithVariable('feature_importances');\n",
              "      }\n",
              "      })();\n",
              "    </script>\n",
              "  </div>\n",
              "\n",
              "    </div>\n",
              "  </div>\n"
            ],
            "application/vnd.google.colaboratory.intrinsic+json": {
              "type": "dataframe",
              "variable_name": "feature_importances",
              "summary": "{\n  \"name\": \"feature_importances\",\n  \"rows\": 272,\n  \"fields\": [\n    {\n      \"column\": \"Feature\",\n      \"properties\": {\n        \"dtype\": \"string\",\n        \"num_unique_values\": 272,\n        \"samples\": [\n          \"BMI Sex\",\n          \"AnyHealthcare Education\",\n          \"BMI Education\"\n        ],\n        \"semantic_type\": \"\",\n        \"description\": \"\"\n      }\n    },\n    {\n      \"column\": \"Importance\",\n      \"properties\": {\n        \"dtype\": \"number\",\n        \"std\": 0.5531859932694113,\n        \"min\": 0.0,\n        \"max\": 4.63016766611082,\n        \"num_unique_values\": 223,\n        \"samples\": [\n          1.6272331512888372,\n          0.3877342952051721,\n          0.21254688063657537\n        ],\n        \"semantic_type\": \"\",\n        \"description\": \"\"\n      }\n    }\n  ]\n}"
            }
          },
          "metadata": {},
          "execution_count": 27
        }
      ],
      "source": [
        "#Observo la importancia de las features\n",
        "\n",
        "feature_importances = pd.DataFrame({'Feature': X.columns,\n",
        "                                    'Importance': catboost.feature_importances_}).sort_values(by='Importance',\n",
        "                                                                                          ascending=False)\n",
        "feature_importances"
      ]
    },
    {
      "cell_type": "markdown",
      "metadata": {
        "id": "SUyCWv5wWkJ_"
      },
      "source": [
        "Hay muchos \"canaritos\" que están rankeados arriba, por lo que se podría crear un dataframe nuevo con las features importantes y descartar las demás."
      ]
    },
    {
      "cell_type": "code",
      "execution_count": null,
      "metadata": {
        "colab": {
          "base_uri": "https://localhost:8080/"
        },
        "id": "SpXj1BBaWZ8V",
        "outputId": "3928c3cf-396b-43f8-99b2-4c0672c8ea7d"
      },
      "outputs": [
        {
          "output_type": "stream",
          "name": "stdout",
          "text": [
            "        GenHlth Age  CholCheck Age  HighChol BMI  BMI GenHlth  HighBP BMI  \\\n",
            "0              21.0            0.0           0.0         75.0         0.0   \n",
            "1              22.0           11.0           0.0         54.0        27.0   \n",
            "2              22.0           11.0          24.0         48.0        24.0   \n",
            "3              20.0           10.0          25.0         50.0        25.0   \n",
            "4              33.0           11.0          25.0         75.0        25.0   \n",
            "...             ...            ...           ...          ...         ...   \n",
            "155004          3.0            3.0           0.0         27.0         0.0   \n",
            "155005         44.0           11.0          18.0         72.0        18.0   \n",
            "155006          2.0            2.0           0.0         28.0         0.0   \n",
            "155007         21.0            7.0           0.0         69.0        23.0   \n",
            "155008         18.0            9.0          25.0         50.0        25.0   \n",
            "\n",
            "        BMI Age  CholCheck BMI  CholCheck GenHlth  BMI AnyHealthcare  \\\n",
            "0         175.0            0.0                0.0                0.0   \n",
            "1         297.0           27.0                2.0               27.0   \n",
            "2         264.0           24.0                2.0               24.0   \n",
            "3         250.0           25.0                2.0               25.0   \n",
            "4         275.0           25.0                3.0               25.0   \n",
            "...         ...            ...                ...                ...   \n",
            "155004     81.0           27.0                1.0               27.0   \n",
            "155005    198.0           18.0                4.0               18.0   \n",
            "155006     56.0           28.0                1.0               28.0   \n",
            "155007    161.0           23.0                3.0               23.0   \n",
            "155008    225.0           25.0                2.0               25.0   \n",
            "\n",
            "        HighChol GenHlth  HighBP Age  Sex Age  HighBP GenHlth   Age  \n",
            "0                    0.0         0.0      0.0             0.0   7.0  \n",
            "1                    0.0        11.0      0.0             2.0  11.0  \n",
            "2                    2.0        11.0      0.0             2.0  11.0  \n",
            "3                    2.0        10.0     10.0             2.0  10.0  \n",
            "4                    3.0        11.0      0.0             3.0  11.0  \n",
            "...                  ...         ...      ...             ...   ...  \n",
            "155004               0.0         0.0      0.0             0.0   3.0  \n",
            "155005               4.0        11.0      0.0             4.0  11.0  \n",
            "155006               0.0         0.0      0.0             0.0   2.0  \n",
            "155007               0.0         7.0      7.0             3.0   7.0  \n",
            "155008               2.0         9.0      0.0             2.0   9.0  \n",
            "\n",
            "[155009 rows x 14 columns]\n"
          ]
        }
      ],
      "source": [
        "#Creo un vector con las features importantes, considero importantes las features que están por encima de la primera \"capa geológica\" de canaritos\n",
        "\n",
        "important_features = ['GenHlth Age', 'CholCheck Age', 'HighChol BMI', 'BMI GenHlth', 'HighBP BMI', 'BMI Age', 'CholCheck BMI',\n",
        "                      'CholCheck GenHlth', 'BMI AnyHealthcare', 'HighChol GenHlth', 'HighBP Age', 'Sex Age', 'HighBP GenHlth', 'Age']\n",
        "\n",
        "#Creo un dataframe nuevo con las features importantes, según el análisis anterior.\n",
        "\n",
        "df_important = X[important_features].copy()\n",
        "\n",
        "print(df_important)"
      ]
    },
    {
      "cell_type": "markdown",
      "metadata": {
        "id": "LL9JAab_Q49L"
      },
      "source": [
        "#10 - Búsqueda de los mejores hiperparámetros posibles y predicción en modelos de clasifiación"
      ]
    },
    {
      "cell_type": "markdown",
      "metadata": {
        "id": "993RkNm55oTA"
      },
      "source": [
        "###10-1-1 BayesSearch y Catboost"
      ]
    },
    {
      "cell_type": "code",
      "execution_count": null,
      "metadata": {
        "id": "C7Xts2wn45O5"
      },
      "outputs": [],
      "source": [
        "X = df_important\n",
        "\n",
        "# Divido en training y testing\n",
        "\n",
        "X_train, X_test, Y_train, Y_test = train_test_split(X, Y, test_size = 0.3, stratify = Y, random_state = 10000)\n",
        "\n",
        "scaler = StandardScaler()\n",
        "\n",
        "X_train_escalado = scaler.fit_transform(X_train.select_dtypes(include=['int64', 'float64']))\n",
        "X_test_escalado = scaler.transform(X_test.select_dtypes(include=['int64', 'float64']))\n",
        "\n",
        "X_train_escalado = pd.DataFrame(X_train_escalado, columns=X_train.select_dtypes(include=['int64', 'float64']).columns, index=X_train.index)\n",
        "X_test_escalado = pd.DataFrame(X_test_escalado, columns=X_test.select_dtypes(include=['int64', 'float64']).columns, index=X_test.index)\n",
        "\n",
        "#Update de datos\n",
        "\n",
        "X_train.update(X_train_escalado)\n",
        "X_test.update(X_test_escalado)\n"
      ]
    },
    {
      "cell_type": "code",
      "execution_count": null,
      "metadata": {
        "colab": {
          "base_uri": "https://localhost:8080/"
        },
        "id": "hjFNqgkF5ejN",
        "outputId": "372811c8-1161-43fc-8e4b-cc84bbcdbbe7"
      },
      "outputs": [
        {
          "output_type": "stream",
          "name": "stdout",
          "text": [
            "0:\tlearn: 0.7777711\ttotal: 47.3ms\tremaining: 3.22s\n",
            "1:\tlearn: 0.6316940\ttotal: 93.3ms\tremaining: 3.12s\n",
            "2:\tlearn: 0.5481267\ttotal: 135ms\tremaining: 2.97s\n",
            "3:\tlearn: 0.4956694\ttotal: 180ms\tremaining: 2.93s\n",
            "4:\tlearn: 0.4614350\ttotal: 221ms\tremaining: 2.83s\n",
            "5:\tlearn: 0.4388251\ttotal: 268ms\tremaining: 2.82s\n",
            "6:\tlearn: 0.4227013\ttotal: 312ms\tremaining: 2.77s\n",
            "7:\tlearn: 0.4115652\ttotal: 356ms\tremaining: 2.71s\n",
            "8:\tlearn: 0.4040250\ttotal: 401ms\tremaining: 2.67s\n",
            "9:\tlearn: 0.3992275\ttotal: 448ms\tremaining: 2.64s\n",
            "10:\tlearn: 0.3960010\ttotal: 495ms\tremaining: 2.61s\n",
            "11:\tlearn: 0.3937963\ttotal: 539ms\tremaining: 2.56s\n",
            "12:\tlearn: 0.3918120\ttotal: 584ms\tremaining: 2.51s\n",
            "13:\tlearn: 0.3907829\ttotal: 627ms\tremaining: 2.46s\n",
            "14:\tlearn: 0.3900599\ttotal: 666ms\tremaining: 2.4s\n",
            "15:\tlearn: 0.3893143\ttotal: 711ms\tremaining: 2.35s\n",
            "16:\tlearn: 0.3886543\ttotal: 753ms\tremaining: 2.3s\n",
            "17:\tlearn: 0.3881911\ttotal: 809ms\tremaining: 2.29s\n",
            "18:\tlearn: 0.3878375\ttotal: 852ms\tremaining: 2.24s\n",
            "19:\tlearn: 0.3875481\ttotal: 901ms\tremaining: 2.21s\n",
            "20:\tlearn: 0.3872960\ttotal: 945ms\tremaining: 2.16s\n",
            "21:\tlearn: 0.3871803\ttotal: 984ms\tremaining: 2.1s\n",
            "22:\tlearn: 0.3870518\ttotal: 1.02s\tremaining: 2.05s\n",
            "23:\tlearn: 0.3868765\ttotal: 1.07s\tremaining: 2.01s\n",
            "24:\tlearn: 0.3867342\ttotal: 1.11s\tremaining: 1.96s\n",
            "25:\tlearn: 0.3865957\ttotal: 1.16s\tremaining: 1.92s\n",
            "26:\tlearn: 0.3864814\ttotal: 1.2s\tremaining: 1.87s\n",
            "27:\tlearn: 0.3863730\ttotal: 1.24s\tremaining: 1.82s\n",
            "28:\tlearn: 0.3863183\ttotal: 1.28s\tremaining: 1.77s\n",
            "29:\tlearn: 0.3861615\ttotal: 1.32s\tremaining: 1.72s\n",
            "30:\tlearn: 0.3860764\ttotal: 1.37s\tremaining: 1.68s\n",
            "31:\tlearn: 0.3859632\ttotal: 1.42s\tremaining: 1.64s\n",
            "32:\tlearn: 0.3859323\ttotal: 1.46s\tremaining: 1.59s\n",
            "33:\tlearn: 0.3858604\ttotal: 1.5s\tremaining: 1.54s\n",
            "34:\tlearn: 0.3858026\ttotal: 1.54s\tremaining: 1.5s\n",
            "35:\tlearn: 0.3857485\ttotal: 1.58s\tremaining: 1.45s\n",
            "36:\tlearn: 0.3856989\ttotal: 1.62s\tremaining: 1.4s\n",
            "37:\tlearn: 0.3856794\ttotal: 1.66s\tremaining: 1.35s\n",
            "38:\tlearn: 0.3856052\ttotal: 1.7s\tremaining: 1.31s\n",
            "39:\tlearn: 0.3855304\ttotal: 1.75s\tremaining: 1.26s\n",
            "40:\tlearn: 0.3854773\ttotal: 1.8s\tremaining: 1.23s\n",
            "41:\tlearn: 0.3854471\ttotal: 1.85s\tremaining: 1.19s\n",
            "42:\tlearn: 0.3854028\ttotal: 1.88s\tremaining: 1.14s\n",
            "43:\tlearn: 0.3853726\ttotal: 1.92s\tremaining: 1.09s\n",
            "44:\tlearn: 0.3852986\ttotal: 1.97s\tremaining: 1.05s\n",
            "45:\tlearn: 0.3852405\ttotal: 2.01s\tremaining: 1s\n",
            "46:\tlearn: 0.3851846\ttotal: 2.06s\tremaining: 964ms\n",
            "47:\tlearn: 0.3851489\ttotal: 2.09s\tremaining: 916ms\n",
            "48:\tlearn: 0.3850697\ttotal: 2.14s\tremaining: 872ms\n",
            "49:\tlearn: 0.3850415\ttotal: 2.17s\tremaining: 827ms\n",
            "50:\tlearn: 0.3849895\ttotal: 2.22s\tremaining: 783ms\n",
            "51:\tlearn: 0.3849105\ttotal: 2.26s\tremaining: 738ms\n",
            "52:\tlearn: 0.3848911\ttotal: 2.29s\tremaining: 693ms\n",
            "53:\tlearn: 0.3848458\ttotal: 2.34s\tremaining: 649ms\n",
            "54:\tlearn: 0.3847497\ttotal: 2.38s\tremaining: 605ms\n",
            "55:\tlearn: 0.3847321\ttotal: 2.41s\tremaining: 560ms\n",
            "56:\tlearn: 0.3847066\ttotal: 2.46s\tremaining: 517ms\n",
            "57:\tlearn: 0.3846571\ttotal: 2.5s\tremaining: 474ms\n",
            "58:\tlearn: 0.3846365\ttotal: 2.53s\tremaining: 429ms\n",
            "59:\tlearn: 0.3845932\ttotal: 2.57s\tremaining: 386ms\n",
            "60:\tlearn: 0.3845681\ttotal: 2.61s\tremaining: 343ms\n",
            "61:\tlearn: 0.3845337\ttotal: 2.66s\tremaining: 301ms\n",
            "62:\tlearn: 0.3844801\ttotal: 2.71s\tremaining: 258ms\n",
            "63:\tlearn: 0.3844506\ttotal: 2.75s\tremaining: 215ms\n",
            "64:\tlearn: 0.3844169\ttotal: 2.78s\tremaining: 171ms\n",
            "65:\tlearn: 0.3843955\ttotal: 2.83s\tremaining: 129ms\n",
            "66:\tlearn: 0.3843648\ttotal: 2.88s\tremaining: 85.9ms\n",
            "67:\tlearn: 0.3843414\ttotal: 2.91s\tremaining: 42.9ms\n",
            "68:\tlearn: 0.3843177\ttotal: 2.96s\tremaining: 0us\n",
            "Best Parameters: OrderedDict([('depth', 4), ('iterations', 69), ('learning_rate', 0.2821269820483118)])\n"
          ]
        }
      ],
      "source": [
        "#Defino qué hiperparámetros usaré para Catboost\n",
        "\n",
        "hiper_cboost = {\n",
        "         'learning_rate': Real(0.01, 0.3, 'uniform'),\n",
        "         'depth': Integer(3, 10),\n",
        "         'iterations': Integer(10, 100),\n",
        "}\n",
        "\n",
        "# Instancio BayesSearchCV y defino como validación cruzada a Stratified K Fold\n",
        "\n",
        "cv_cboost = StratifiedKFold(n_splits=5, shuffle=True, random_state=10000)\n",
        "\n",
        "cboost = CatBoostClassifier (random_state = 10000)\n",
        "\n",
        "bayes_search_cboost = BayesSearchCV(cboost, hiper_cboost, n_iter=5, scoring = 'accuracy', cv = cv_cboost, random_state=10000, n_jobs = -1, verbose = False)\n",
        "\n",
        "# Ajustar BayesSearchCV\n",
        "\n",
        "bayes_search_cboost.fit(X_train, Y_train)\n",
        "\n",
        "# Imprimir mejores parametros\n",
        "\n",
        "print(f'Best Parameters: {bayes_search_cboost.best_params_}')\n"
      ]
    },
    {
      "cell_type": "code",
      "source": [
        "#Observo la dependencia parcial de las cuatro primeras features\n",
        "\n",
        "Features = [0, 1, 2, 3]\n",
        "\n",
        "PartialDependenceDisplay.from_estimator(bayes_search_cboost.best_estimator_, X_train, Features, feature_names=X.columns, target = 0, grid_resolution = 100)\n",
        "\n",
        "plt.show()"
      ],
      "metadata": {
        "colab": {
          "base_uri": "https://localhost:8080/",
          "height": 449
        },
        "id": "Yr791Bg_Cviy",
        "outputId": "fd4b6339-b924-41a6-af83-ca982fa86140"
      },
      "execution_count": null,
      "outputs": [
        {
          "output_type": "display_data",
          "data": {
            "text/plain": [
              "<Figure size 640x480 with 5 Axes>"
            ],
            "image/png": "[encoded data removed]"
          },
          "metadata": {}
        }
      ]
    },
    {
      "cell_type": "code",
      "execution_count": null,
      "metadata": {
        "colab": {
          "base_uri": "https://localhost:8080/"
        },
        "id": "qbXMAUarK3ay",
        "outputId": "1caa5341-85de-4b25-ee4f-6e4eeda88e6f"
      },
      "outputs": [
        {
          "output_type": "stream",
          "name": "stdout",
          "text": [
            "0:\tlearn: 0.7792530\ttotal: 45.6ms\tremaining: 3.1s\n",
            "1:\tlearn: 0.6339230\ttotal: 89.8ms\tremaining: 3.01s\n",
            "2:\tlearn: 0.5498012\ttotal: 136ms\tremaining: 2.98s\n",
            "3:\tlearn: 0.4967772\ttotal: 179ms\tremaining: 2.9s\n",
            "4:\tlearn: 0.4616594\ttotal: 224ms\tremaining: 2.86s\n",
            "5:\tlearn: 0.4383462\ttotal: 269ms\tremaining: 2.83s\n",
            "6:\tlearn: 0.4225259\ttotal: 311ms\tremaining: 2.75s\n",
            "7:\tlearn: 0.4118236\ttotal: 369ms\tremaining: 2.81s\n",
            "8:\tlearn: 0.4044551\ttotal: 413ms\tremaining: 2.75s\n",
            "9:\tlearn: 0.3991040\ttotal: 458ms\tremaining: 2.7s\n",
            "10:\tlearn: 0.3954752\ttotal: 509ms\tremaining: 2.69s\n",
            "11:\tlearn: 0.3930694\ttotal: 551ms\tremaining: 2.62s\n",
            "12:\tlearn: 0.3913324\ttotal: 595ms\tremaining: 2.56s\n",
            "13:\tlearn: 0.3901175\ttotal: 636ms\tremaining: 2.5s\n",
            "14:\tlearn: 0.3892536\ttotal: 683ms\tremaining: 2.46s\n",
            "15:\tlearn: 0.3885466\ttotal: 726ms\tremaining: 2.4s\n",
            "16:\tlearn: 0.3880353\ttotal: 775ms\tremaining: 2.37s\n",
            "17:\tlearn: 0.3876594\ttotal: 818ms\tremaining: 2.32s\n",
            "18:\tlearn: 0.3875264\ttotal: 859ms\tremaining: 2.26s\n",
            "19:\tlearn: 0.3873900\ttotal: 900ms\tremaining: 2.21s\n",
            "20:\tlearn: 0.3872342\ttotal: 946ms\tremaining: 2.16s\n",
            "21:\tlearn: 0.3870288\ttotal: 991ms\tremaining: 2.12s\n",
            "22:\tlearn: 0.3868539\ttotal: 1.03s\tremaining: 2.06s\n",
            "23:\tlearn: 0.3867637\ttotal: 1.07s\tremaining: 2s\n",
            "24:\tlearn: 0.3865744\ttotal: 1.11s\tremaining: 1.95s\n",
            "25:\tlearn: 0.3864054\ttotal: 1.16s\tremaining: 1.91s\n",
            "26:\tlearn: 0.3862470\ttotal: 1.2s\tremaining: 1.86s\n",
            "27:\tlearn: 0.3861051\ttotal: 1.24s\tremaining: 1.82s\n",
            "28:\tlearn: 0.3860075\ttotal: 1.28s\tremaining: 1.77s\n",
            "29:\tlearn: 0.3859663\ttotal: 1.32s\tremaining: 1.72s\n",
            "30:\tlearn: 0.3858694\ttotal: 1.37s\tremaining: 1.68s\n",
            "31:\tlearn: 0.3858078\ttotal: 1.42s\tremaining: 1.64s\n",
            "32:\tlearn: 0.3857457\ttotal: 1.46s\tremaining: 1.59s\n",
            "33:\tlearn: 0.3856512\ttotal: 1.5s\tremaining: 1.54s\n",
            "34:\tlearn: 0.3856067\ttotal: 1.55s\tremaining: 1.5s\n",
            "35:\tlearn: 0.3855541\ttotal: 1.59s\tremaining: 1.46s\n",
            "36:\tlearn: 0.3855034\ttotal: 1.63s\tremaining: 1.41s\n",
            "37:\tlearn: 0.3854615\ttotal: 1.67s\tremaining: 1.36s\n",
            "38:\tlearn: 0.3854278\ttotal: 1.71s\tremaining: 1.32s\n",
            "39:\tlearn: 0.3853262\ttotal: 1.75s\tremaining: 1.27s\n",
            "40:\tlearn: 0.3852733\ttotal: 1.8s\tremaining: 1.23s\n",
            "41:\tlearn: 0.3852498\ttotal: 1.84s\tremaining: 1.18s\n",
            "42:\tlearn: 0.3852117\ttotal: 1.88s\tremaining: 1.14s\n",
            "43:\tlearn: 0.3851340\ttotal: 1.92s\tremaining: 1.09s\n",
            "44:\tlearn: 0.3851102\ttotal: 1.96s\tremaining: 1.04s\n",
            "45:\tlearn: 0.3850791\ttotal: 2s\tremaining: 1000ms\n",
            "46:\tlearn: 0.3850244\ttotal: 2.04s\tremaining: 957ms\n",
            "47:\tlearn: 0.3849948\ttotal: 2.08s\tremaining: 911ms\n",
            "48:\tlearn: 0.3849391\ttotal: 2.12s\tremaining: 867ms\n",
            "49:\tlearn: 0.3849225\ttotal: 2.16s\tremaining: 821ms\n",
            "50:\tlearn: 0.3848727\ttotal: 2.2s\tremaining: 776ms\n",
            "51:\tlearn: 0.3848413\ttotal: 2.24s\tremaining: 732ms\n",
            "52:\tlearn: 0.3848096\ttotal: 2.28s\tremaining: 689ms\n",
            "53:\tlearn: 0.3847857\ttotal: 2.32s\tremaining: 644ms\n",
            "54:\tlearn: 0.3847700\ttotal: 2.36s\tremaining: 601ms\n",
            "55:\tlearn: 0.3847432\ttotal: 2.4s\tremaining: 558ms\n",
            "56:\tlearn: 0.3846725\ttotal: 2.46s\tremaining: 517ms\n",
            "57:\tlearn: 0.3846447\ttotal: 2.5s\tremaining: 474ms\n",
            "58:\tlearn: 0.3845927\ttotal: 2.54s\tremaining: 431ms\n",
            "59:\tlearn: 0.3845661\ttotal: 2.58s\tremaining: 388ms\n",
            "60:\tlearn: 0.3845385\ttotal: 2.62s\tremaining: 343ms\n",
            "61:\tlearn: 0.3845221\ttotal: 2.66s\tremaining: 301ms\n",
            "62:\tlearn: 0.3844879\ttotal: 2.71s\tremaining: 258ms\n",
            "63:\tlearn: 0.3844620\ttotal: 2.75s\tremaining: 214ms\n",
            "64:\tlearn: 0.3844448\ttotal: 2.78s\tremaining: 171ms\n",
            "65:\tlearn: 0.3844178\ttotal: 2.82s\tremaining: 128ms\n",
            "66:\tlearn: 0.3843820\ttotal: 2.86s\tremaining: 85.4ms\n",
            "67:\tlearn: 0.3843384\ttotal: 2.9s\tremaining: 42.6ms\n",
            "68:\tlearn: 0.3842894\ttotal: 2.95s\tremaining: 0us\n"
          ]
        }
      ],
      "source": [
        "#Utilizo los mejores parámetros encontrados por BayesSearchCV\n",
        "\n",
        "Mejores_Parametros_Cboost = {\n",
        "    'learning_rate': 0.28,\n",
        "    'depth': 4,\n",
        "    'iterations': 69\n",
        "}\n",
        "\n",
        "cbc = CatBoostClassifier(**Mejores_Parametros_Cboost)\n",
        "\n",
        "cbc.fit(X_train, Y_train)\n",
        "\n",
        "Y_pred = cbc.predict(X_test)\n"
      ]
    },
    {
      "cell_type": "code",
      "execution_count": null,
      "metadata": {
        "colab": {
          "base_uri": "https://localhost:8080/"
        },
        "id": "NQnigcKsOg04",
        "outputId": "84d0442a-1c7e-4fae-8fce-11891fa0e140"
      },
      "outputs": [
        {
          "output_type": "stream",
          "name": "stdout",
          "text": [
            "Accuracy:  0.8608261832569942\n",
            "[[39689     0   306]\n",
            " [  796     0    29]\n",
            " [ 5341     0   342]]\n",
            "Precision:  0.8066095863562643\n",
            "Recall:  0.8608261832569942\n",
            "F1 - score:  0.8086267839776643\n"
          ]
        },
        {
          "output_type": "stream",
          "name": "stderr",
          "text": [
            "/usr/local/lib/python3.10/dist-packages/sklearn/metrics/_classification.py:1344: UndefinedMetricWarning: Precision is ill-defined and being set to 0.0 in labels with no predicted samples. Use `zero_division` parameter to control this behavior.\n",
            "  _warn_prf(average, modifier, msg_start, len(result))\n"
          ]
        }
      ],
      "source": [
        "# Calculo métricas\n",
        "\n",
        "\n",
        "accuracy_cboost = accuracy_score(Y_test, Y_pred)\n",
        "\n",
        "cm_cboost = confusion_matrix(Y_test, Y_pred)\n",
        "\n",
        "precision_cboost = precision_score(Y_test, Y_pred, average = 'weighted')\n",
        "\n",
        "recall_cboost = recall_score(Y_test, Y_pred, average = 'weighted')\n",
        "\n",
        "f1_cboost = f1_score(Y_test, Y_pred, average = 'weighted')\n",
        "\n",
        "#Imprimo métricas\n",
        "\n",
        "print('Accuracy: ', accuracy_cboost)\n",
        "\n",
        "print(cm_cboost)\n",
        "\n",
        "print('Precision: ', precision_cboost)\n",
        "\n",
        "print('Recall: ', recall_cboost)\n",
        "\n",
        "print('F1 - score: ', f1_cboost)"
      ]
    },
    {
      "cell_type": "markdown",
      "metadata": {
        "id": "DenjKdgF52Yy"
      },
      "source": [
        "###10-1-2 XGBoost y BayesSearch"
      ]
    },
    {
      "cell_type": "code",
      "execution_count": null,
      "metadata": {
        "colab": {
          "base_uri": "https://localhost:8080/"
        },
        "id": "3lAiY1iFoTl7",
        "outputId": "6b30e3de-6f70-43a9-af4f-91d9ad8fbac7"
      },
      "outputs": [
        {
          "output_type": "stream",
          "name": "stderr",
          "text": [
            "/usr/local/lib/python3.10/dist-packages/xgboost/core.py:160: UserWarning: [23:23:45] WARNING: /workspace/src/learner.cc:742: \n",
            "Parameters: { \"n_stimators\" } are not used.\n",
            "\n",
            "  warnings.warn(smsg, UserWarning)\n"
          ]
        },
        {
          "output_type": "stream",
          "name": "stdout",
          "text": [
            "Best Parameters: OrderedDict([('learning_rate', 0.06180492639967771), ('max_depth', 4), ('n_estimators', 153)])\n"
          ]
        }
      ],
      "source": [
        "#Ahora buscaremos los hiperparámetros \"óptimos\" para XGboost.\n",
        "\n",
        "hiper_xgboost = {\n",
        "         'learning_rate': Real(0.05, 0.1, 'uniform'),\n",
        "         'n_estimators': Integer(100, 400),\n",
        "         'max_depth': Integer(3, 7),\n",
        "}\n",
        "\n",
        "# Instancio BayesSearchCV\n",
        "\n",
        "xgboost = XGBClassifier (n_stimators = 100, random_state = 10000)\n",
        "\n",
        "cv_xgboost = StratifiedKFold(n_splits=5, shuffle=True, random_state=10000)\n",
        "\n",
        "bayes_search_xgboost = BayesSearchCV(xgboost, hiper_xgboost, n_iter=5, scoring = 'accuracy', cv = cv_xgboost, random_state=10000, n_jobs = -1, verbose = False)\n",
        "\n",
        "# Ajustar BayesSearchCV\n",
        "\n",
        "bayes_search_xgboost.fit(X_train, Y_train)\n",
        "\n",
        "# Imprimir mejores parametros\n",
        "\n",
        "print(f'Best Parameters: {bayes_search_xgboost.best_params_}')\n"
      ]
    },
    {
      "cell_type": "code",
      "execution_count": null,
      "metadata": {
        "colab": {
          "base_uri": "https://localhost:8080/"
        },
        "id": "P-dA5vya0ALx",
        "outputId": "5c226501-317b-405e-8fb5-10d58a47dabc"
      },
      "outputs": [
        {
          "output_type": "stream",
          "name": "stderr",
          "text": [
            "/usr/local/lib/python3.10/dist-packages/xgboost/core.py:160: UserWarning: [23:33:04] WARNING: /workspace/src/learner.cc:742: \n",
            "Parameters: { \"n_stimators\" } are not used.\n",
            "\n",
            "  warnings.warn(smsg, UserWarning)\n"
          ]
        }
      ],
      "source": [
        "#Utilizo los mejores parámetros encontrados por BayesSearchCV\n",
        "\n",
        "Mejores_Parametros_XGboost = {\n",
        "    'learning_rate': 0.06,\n",
        "    'max_depth': 4,\n",
        "    'n_stimators': 153,\n",
        "}\n",
        "\n",
        "xgb = XGBClassifier(**Mejores_Parametros_XGboost)\n",
        "\n",
        "xgb.fit(X_train, Y_train)\n",
        "\n",
        "Y_pred = xgb.predict(X_test)"
      ]
    },
    {
      "cell_type": "code",
      "execution_count": null,
      "metadata": {
        "colab": {
          "base_uri": "https://localhost:8080/"
        },
        "id": "guknYHSn41SZ",
        "outputId": "e6eead66-c80b-4d9c-c2ef-54f462cbd6de"
      },
      "outputs": [
        {
          "output_type": "stream",
          "name": "stdout",
          "text": [
            "Accuracy:  0.8611057351138636\n",
            "[[39748     0   247]\n",
            " [  801     0    24]\n",
            " [ 5387     0   296]]\n",
            "Precision:  0.8079928976425951\n",
            "Recall:  0.8611057351138636\n",
            "F1 - score:  0.807221934609544\n"
          ]
        },
        {
          "output_type": "stream",
          "name": "stderr",
          "text": [
            "/usr/local/lib/python3.10/dist-packages/sklearn/metrics/_classification.py:1344: UndefinedMetricWarning: Precision is ill-defined and being set to 0.0 in labels with no predicted samples. Use `zero_division` parameter to control this behavior.\n",
            "  _warn_prf(average, modifier, msg_start, len(result))\n"
          ]
        }
      ],
      "source": [
        "# Calculo métricas\n",
        "\n",
        "\n",
        "accuracy_xgboost = accuracy_score(Y_test, Y_pred)\n",
        "\n",
        "cm_xgboost = confusion_matrix(Y_test, Y_pred)\n",
        "\n",
        "precision_xgboost = precision_score(Y_test, Y_pred, average = 'weighted')\n",
        "\n",
        "recall_xgboost = recall_score(Y_test, Y_pred, average = 'weighted')\n",
        "\n",
        "f1_xgboost = f1_score(Y_test, Y_pred, average = 'weighted')\n",
        "\n",
        "#Imprimo métricas\n",
        "\n",
        "print('Accuracy: ', accuracy_xgboost)\n",
        "\n",
        "print(cm_xgboost)\n",
        "\n",
        "print('Precision: ', precision_xgboost)\n",
        "\n",
        "print('Recall: ', recall_xgboost)\n",
        "\n",
        "print('F1 - score: ', f1_xgboost)"
      ]
    },
    {
      "cell_type": "markdown",
      "metadata": {
        "id": "JlUxWxUk59me"
      },
      "source": [
        "###10-1-3 LightGBM y BayesSearch"
      ]
    },
    {
      "cell_type": "code",
      "execution_count": null,
      "metadata": {
        "colab": {
          "base_uri": "https://localhost:8080/"
        },
        "id": "UqOmtGxT6SrJ",
        "outputId": "04d459f3-53e4-44b1-edc3-65d59d51bbb4"
      },
      "outputs": [
        {
          "output_type": "stream",
          "name": "stdout",
          "text": [
            "[LightGBM] [Warning] Found whitespace in feature_names, replace with underlines\n",
            "[LightGBM] [Info] Auto-choosing row-wise multi-threading, the overhead of testing was 0.009160 seconds.\n",
            "You can set `force_row_wise=true` to remove the overhead.\n",
            "And if memory is not enough, you can set `force_col_wise=true`.\n",
            "[LightGBM] [Info] Total Bins 506\n",
            "[LightGBM] [Info] Number of data points in the train set: 108506, number of used features: 14\n",
            "[LightGBM] [Info] Start training from score -0.150760\n",
            "[LightGBM] [Info] Start training from score -4.031360\n",
            "[LightGBM] [Info] Start training from score -2.102129\n",
            "[LightGBM] [Warning] No further splits with positive gain, best gain: -inf\n",
            "[LightGBM] [Warning] No further splits with positive gain, best gain: -inf\n",
            "[LightGBM] [Warning] No further splits with positive gain, best gain: -inf\n",
            "[LightGBM] [Warning] No further splits with positive gain, best gain: -inf\n",
            "[LightGBM] [Warning] No further splits with positive gain, best gain: -inf\n",
            "[LightGBM] [Warning] No further splits with positive gain, best gain: -inf\n",
            "[LightGBM] [Warning] No further splits with positive gain, best gain: -inf\n",
            "[LightGBM] [Warning] No further splits with positive gain, best gain: -inf\n",
            "[LightGBM] [Warning] No further splits with positive gain, best gain: -inf\n",
            "[LightGBM] [Warning] No further splits with positive gain, best gain: -inf\n",
            "[LightGBM] [Warning] No further splits with positive gain, best gain: -inf\n",
            "[LightGBM] [Warning] No further splits with positive gain, best gain: -inf\n",
            "[LightGBM] [Warning] No further splits with positive gain, best gain: -inf\n",
            "[LightGBM] [Warning] No further splits with positive gain, best gain: -inf\n",
            "[LightGBM] [Warning] No further splits with positive gain, best gain: -inf\n",
            "[LightGBM] [Warning] No further splits with positive gain, best gain: -inf\n",
            "[LightGBM] [Warning] No further splits with positive gain, best gain: -inf\n",
            "[LightGBM] [Warning] No further splits with positive gain, best gain: -inf\n",
            "[LightGBM] [Warning] No further splits with positive gain, best gain: -inf\n",
            "[LightGBM] [Warning] No further splits with positive gain, best gain: -inf\n",
            "[LightGBM] [Warning] No further splits with positive gain, best gain: -inf\n",
            "[LightGBM] [Warning] No further splits with positive gain, best gain: -inf\n",
            "[LightGBM] [Warning] No further splits with positive gain, best gain: -inf\n",
            "[LightGBM] [Warning] No further splits with positive gain, best gain: -inf\n",
            "[LightGBM] [Warning] No further splits with positive gain, best gain: -inf\n",
            "[LightGBM] [Warning] No further splits with positive gain, best gain: -inf\n",
            "[LightGBM] [Warning] No further splits with positive gain, best gain: -inf\n",
            "[LightGBM] [Warning] No further splits with positive gain, best gain: -inf\n",
            "[LightGBM] [Warning] No further splits with positive gain, best gain: -inf\n",
            "[LightGBM] [Warning] No further splits with positive gain, best gain: -inf\n",
            "[LightGBM] [Warning] No further splits with positive gain, best gain: -inf\n",
            "[LightGBM] [Warning] No further splits with positive gain, best gain: -inf\n",
            "[LightGBM] [Warning] No further splits with positive gain, best gain: -inf\n",
            "[LightGBM] [Warning] No further splits with positive gain, best gain: -inf\n",
            "[LightGBM] [Warning] No further splits with positive gain, best gain: -inf\n",
            "[LightGBM] [Warning] No further splits with positive gain, best gain: -inf\n",
            "[LightGBM] [Warning] No further splits with positive gain, best gain: -inf\n",
            "[LightGBM] [Warning] No further splits with positive gain, best gain: -inf\n",
            "[LightGBM] [Warning] No further splits with positive gain, best gain: -inf\n",
            "[LightGBM] [Warning] No further splits with positive gain, best gain: -inf\n",
            "[LightGBM] [Warning] No further splits with positive gain, best gain: -inf\n",
            "[LightGBM] [Warning] No further splits with positive gain, best gain: -inf\n",
            "[LightGBM] [Warning] No further splits with positive gain, best gain: -inf\n",
            "[LightGBM] [Warning] No further splits with positive gain, best gain: -inf\n",
            "[LightGBM] [Warning] No further splits with positive gain, best gain: -inf\n",
            "[LightGBM] [Warning] No further splits with positive gain, best gain: -inf\n",
            "[LightGBM] [Warning] No further splits with positive gain, best gain: -inf\n",
            "[LightGBM] [Warning] No further splits with positive gain, best gain: -inf\n",
            "[LightGBM] [Warning] No further splits with positive gain, best gain: -inf\n",
            "[LightGBM] [Warning] No further splits with positive gain, best gain: -inf\n",
            "[LightGBM] [Warning] No further splits with positive gain, best gain: -inf\n",
            "[LightGBM] [Warning] No further splits with positive gain, best gain: -inf\n",
            "[LightGBM] [Warning] No further splits with positive gain, best gain: -inf\n",
            "[LightGBM] [Warning] No further splits with positive gain, best gain: -inf\n",
            "[LightGBM] [Warning] No further splits with positive gain, best gain: -inf\n",
            "[LightGBM] [Warning] No further splits with positive gain, best gain: -inf\n",
            "[LightGBM] [Warning] No further splits with positive gain, best gain: -inf\n",
            "[LightGBM] [Warning] No further splits with positive gain, best gain: -inf\n",
            "[LightGBM] [Warning] No further splits with positive gain, best gain: -inf\n",
            "[LightGBM] [Warning] No further splits with positive gain, best gain: -inf\n",
            "[LightGBM] [Warning] No further splits with positive gain, best gain: -inf\n",
            "[LightGBM] [Warning] No further splits with positive gain, best gain: -inf\n",
            "[LightGBM] [Warning] No further splits with positive gain, best gain: -inf\n",
            "[LightGBM] [Warning] No further splits with positive gain, best gain: -inf\n",
            "[LightGBM] [Warning] No further splits with positive gain, best gain: -inf\n",
            "[LightGBM] [Warning] No further splits with positive gain, best gain: -inf\n",
            "[LightGBM] [Warning] No further splits with positive gain, best gain: -inf\n",
            "[LightGBM] [Warning] No further splits with positive gain, best gain: -inf\n",
            "[LightGBM] [Warning] No further splits with positive gain, best gain: -inf\n",
            "[LightGBM] [Warning] No further splits with positive gain, best gain: -inf\n",
            "[LightGBM] [Warning] No further splits with positive gain, best gain: -inf\n",
            "[LightGBM] [Warning] No further splits with positive gain, best gain: -inf\n",
            "[LightGBM] [Warning] No further splits with positive gain, best gain: -inf\n",
            "[LightGBM] [Warning] No further splits with positive gain, best gain: -inf\n",
            "[LightGBM] [Warning] No further splits with positive gain, best gain: -inf\n",
            "[LightGBM] [Warning] No further splits with positive gain, best gain: -inf\n",
            "[LightGBM] [Warning] No further splits with positive gain, best gain: -inf\n",
            "[LightGBM] [Warning] No further splits with positive gain, best gain: -inf\n",
            "[LightGBM] [Warning] No further splits with positive gain, best gain: -inf\n",
            "[LightGBM] [Warning] No further splits with positive gain, best gain: -inf\n",
            "[LightGBM] [Warning] No further splits with positive gain, best gain: -inf\n",
            "[LightGBM] [Warning] No further splits with positive gain, best gain: -inf\n",
            "[LightGBM] [Warning] No further splits with positive gain, best gain: -inf\n",
            "[LightGBM] [Warning] No further splits with positive gain, best gain: -inf\n",
            "[LightGBM] [Warning] No further splits with positive gain, best gain: -inf\n",
            "[LightGBM] [Warning] No further splits with positive gain, best gain: -inf\n",
            "[LightGBM] [Warning] No further splits with positive gain, best gain: -inf\n",
            "[LightGBM] [Warning] No further splits with positive gain, best gain: -inf\n",
            "[LightGBM] [Warning] No further splits with positive gain, best gain: -inf\n",
            "[LightGBM] [Warning] No further splits with positive gain, best gain: -inf\n",
            "[LightGBM] [Warning] No further splits with positive gain, best gain: -inf\n",
            "[LightGBM] [Warning] No further splits with positive gain, best gain: -inf\n",
            "Best Parameters: OrderedDict([('learning_rate', 0.03124886751941988), ('max_depth', 4), ('num_leaves', 34)])\n"
          ]
        }
      ],
      "source": [
        "#Defino qué hiperparámetros usaré para LightGBM\n",
        "\n",
        "hiper_lgbm = {\n",
        "         'learning_rate': Real(0.01, 0.1, 'uniform'),\n",
        "         'max_depth': Integer(3, 10),\n",
        "         'num_leaves': Integer(20, 100),\n",
        "}\n",
        "\n",
        "# Instancio BayesSearchCV\n",
        "\n",
        "lgbm = LGBMClassifier(random_state = 10000)\n",
        "\n",
        "cv_lgbm = StratifiedKFold(n_splits=5, shuffle=True, random_state=10000)\n",
        "\n",
        "bayes_search_lgbm = BayesSearchCV(lgbm, hiper_lgbm, n_iter=5, scoring = 'accuracy', cv = cv_lgbm, random_state=10000, n_jobs = -1, verbose = False)\n",
        "\n",
        "# Ajustar BayesSearchCV\n",
        "\n",
        "bayes_search_lgbm.fit(X_train, Y_train)\n",
        "\n",
        "# Imprimir mejores parametros\n",
        "\n",
        "print(f'Best Parameters: {bayes_search_lgbm.best_params_}')"
      ]
    },
    {
      "cell_type": "code",
      "execution_count": null,
      "metadata": {
        "colab": {
          "base_uri": "https://localhost:8080/"
        },
        "id": "UVIn7cGt_cRG",
        "outputId": "1d16f521-da91-4520-d428-326510a05920"
      },
      "outputs": [
        {
          "output_type": "stream",
          "name": "stdout",
          "text": [
            "[LightGBM] [Warning] Found whitespace in feature_names, replace with underlines\n",
            "[LightGBM] [Info] Auto-choosing row-wise multi-threading, the overhead of testing was 0.005165 seconds.\n",
            "You can set `force_row_wise=true` to remove the overhead.\n",
            "And if memory is not enough, you can set `force_col_wise=true`.\n",
            "[LightGBM] [Info] Total Bins 506\n",
            "[LightGBM] [Info] Number of data points in the train set: 108506, number of used features: 14\n",
            "[LightGBM] [Info] Start training from score -0.150760\n",
            "[LightGBM] [Info] Start training from score -4.031360\n",
            "[LightGBM] [Info] Start training from score -2.102129\n",
            "[LightGBM] [Warning] No further splits with positive gain, best gain: -inf\n",
            "[LightGBM] [Warning] No further splits with positive gain, best gain: -inf\n",
            "[LightGBM] [Warning] No further splits with positive gain, best gain: -inf\n",
            "[LightGBM] [Warning] No further splits with positive gain, best gain: -inf\n",
            "[LightGBM] [Warning] No further splits with positive gain, best gain: -inf\n",
            "[LightGBM] [Warning] No further splits with positive gain, best gain: -inf\n",
            "[LightGBM] [Warning] No further splits with positive gain, best gain: -inf\n",
            "[LightGBM] [Warning] No further splits with positive gain, best gain: -inf\n",
            "[LightGBM] [Warning] No further splits with positive gain, best gain: -inf\n",
            "[LightGBM] [Warning] No further splits with positive gain, best gain: -inf\n",
            "[LightGBM] [Warning] No further splits with positive gain, best gain: -inf\n",
            "[LightGBM] [Warning] No further splits with positive gain, best gain: -inf\n",
            "[LightGBM] [Warning] No further splits with positive gain, best gain: -inf\n",
            "[LightGBM] [Warning] No further splits with positive gain, best gain: -inf\n",
            "[LightGBM] [Warning] No further splits with positive gain, best gain: -inf\n",
            "[LightGBM] [Warning] No further splits with positive gain, best gain: -inf\n",
            "[LightGBM] [Warning] No further splits with positive gain, best gain: -inf\n",
            "[LightGBM] [Warning] No further splits with positive gain, best gain: -inf\n",
            "[LightGBM] [Warning] No further splits with positive gain, best gain: -inf\n",
            "[LightGBM] [Warning] No further splits with positive gain, best gain: -inf\n",
            "[LightGBM] [Warning] No further splits with positive gain, best gain: -inf\n",
            "[LightGBM] [Warning] No further splits with positive gain, best gain: -inf\n",
            "[LightGBM] [Warning] No further splits with positive gain, best gain: -inf\n",
            "[LightGBM] [Warning] No further splits with positive gain, best gain: -inf\n",
            "[LightGBM] [Warning] No further splits with positive gain, best gain: -inf\n",
            "[LightGBM] [Warning] No further splits with positive gain, best gain: -inf\n",
            "[LightGBM] [Warning] No further splits with positive gain, best gain: -inf\n",
            "[LightGBM] [Warning] No further splits with positive gain, best gain: -inf\n",
            "[LightGBM] [Warning] No further splits with positive gain, best gain: -inf\n",
            "[LightGBM] [Warning] No further splits with positive gain, best gain: -inf\n",
            "[LightGBM] [Warning] No further splits with positive gain, best gain: -inf\n",
            "[LightGBM] [Warning] No further splits with positive gain, best gain: -inf\n",
            "[LightGBM] [Warning] No further splits with positive gain, best gain: -inf\n",
            "[LightGBM] [Warning] No further splits with positive gain, best gain: -inf\n",
            "[LightGBM] [Warning] No further splits with positive gain, best gain: -inf\n",
            "[LightGBM] [Warning] No further splits with positive gain, best gain: -inf\n",
            "[LightGBM] [Warning] No further splits with positive gain, best gain: -inf\n",
            "[LightGBM] [Warning] No further splits with positive gain, best gain: -inf\n",
            "[LightGBM] [Warning] No further splits with positive gain, best gain: -inf\n",
            "[LightGBM] [Warning] No further splits with positive gain, best gain: -inf\n",
            "[LightGBM] [Warning] No further splits with positive gain, best gain: -inf\n",
            "[LightGBM] [Warning] No further splits with positive gain, best gain: -inf\n",
            "[LightGBM] [Warning] No further splits with positive gain, best gain: -inf\n",
            "[LightGBM] [Warning] No further splits with positive gain, best gain: -inf\n",
            "[LightGBM] [Warning] No further splits with positive gain, best gain: -inf\n",
            "[LightGBM] [Warning] No further splits with positive gain, best gain: -inf\n",
            "[LightGBM] [Warning] No further splits with positive gain, best gain: -inf\n",
            "[LightGBM] [Warning] No further splits with positive gain, best gain: -inf\n",
            "[LightGBM] [Warning] No further splits with positive gain, best gain: -inf\n",
            "[LightGBM] [Warning] No further splits with positive gain, best gain: -inf\n",
            "[LightGBM] [Warning] No further splits with positive gain, best gain: -inf\n",
            "[LightGBM] [Warning] No further splits with positive gain, best gain: -inf\n",
            "[LightGBM] [Warning] No further splits with positive gain, best gain: -inf\n",
            "[LightGBM] [Warning] No further splits with positive gain, best gain: -inf\n",
            "[LightGBM] [Warning] No further splits with positive gain, best gain: -inf\n",
            "[LightGBM] [Warning] No further splits with positive gain, best gain: -inf\n",
            "[LightGBM] [Warning] No further splits with positive gain, best gain: -inf\n",
            "[LightGBM] [Warning] No further splits with positive gain, best gain: -inf\n",
            "[LightGBM] [Warning] No further splits with positive gain, best gain: -inf\n",
            "[LightGBM] [Warning] No further splits with positive gain, best gain: -inf\n",
            "[LightGBM] [Warning] No further splits with positive gain, best gain: -inf\n",
            "[LightGBM] [Warning] No further splits with positive gain, best gain: -inf\n",
            "[LightGBM] [Warning] No further splits with positive gain, best gain: -inf\n",
            "[LightGBM] [Warning] No further splits with positive gain, best gain: -inf\n",
            "[LightGBM] [Warning] No further splits with positive gain, best gain: -inf\n",
            "[LightGBM] [Warning] No further splits with positive gain, best gain: -inf\n",
            "[LightGBM] [Warning] No further splits with positive gain, best gain: -inf\n",
            "[LightGBM] [Warning] No further splits with positive gain, best gain: -inf\n",
            "[LightGBM] [Warning] No further splits with positive gain, best gain: -inf\n",
            "[LightGBM] [Warning] No further splits with positive gain, best gain: -inf\n",
            "[LightGBM] [Warning] No further splits with positive gain, best gain: -inf\n",
            "[LightGBM] [Warning] No further splits with positive gain, best gain: -inf\n",
            "[LightGBM] [Warning] No further splits with positive gain, best gain: -inf\n",
            "[LightGBM] [Warning] No further splits with positive gain, best gain: -inf\n",
            "[LightGBM] [Warning] No further splits with positive gain, best gain: -inf\n",
            "[LightGBM] [Warning] No further splits with positive gain, best gain: -inf\n",
            "[LightGBM] [Warning] No further splits with positive gain, best gain: -inf\n",
            "[LightGBM] [Warning] No further splits with positive gain, best gain: -inf\n",
            "[LightGBM] [Warning] No further splits with positive gain, best gain: -inf\n",
            "[LightGBM] [Warning] No further splits with positive gain, best gain: -inf\n",
            "[LightGBM] [Warning] No further splits with positive gain, best gain: -inf\n",
            "[LightGBM] [Warning] No further splits with positive gain, best gain: -inf\n",
            "[LightGBM] [Warning] No further splits with positive gain, best gain: -inf\n",
            "[LightGBM] [Warning] No further splits with positive gain, best gain: -inf\n",
            "[LightGBM] [Warning] No further splits with positive gain, best gain: -inf\n",
            "[LightGBM] [Warning] No further splits with positive gain, best gain: -inf\n",
            "[LightGBM] [Warning] No further splits with positive gain, best gain: -inf\n",
            "[LightGBM] [Warning] No further splits with positive gain, best gain: -inf\n",
            "[LightGBM] [Warning] No further splits with positive gain, best gain: -inf\n",
            "[LightGBM] [Warning] No further splits with positive gain, best gain: -inf\n",
            "[LightGBM] [Warning] No further splits with positive gain, best gain: -inf\n",
            "[LightGBM] [Warning] No further splits with positive gain, best gain: -inf\n",
            "[LightGBM] [Warning] No further splits with positive gain, best gain: -inf\n",
            "[LightGBM] [Warning] No further splits with positive gain, best gain: -inf\n",
            "[LightGBM] [Warning] No further splits with positive gain, best gain: -inf\n",
            "[LightGBM] [Warning] No further splits with positive gain, best gain: -inf\n"
          ]
        }
      ],
      "source": [
        "#Utilizo los mejores parámetros encontrados por BayesSearchCV\n",
        "\n",
        "Mejores_Parametros_Lgbm = {\n",
        "    'learning_rate': 0.03,\n",
        "    'max_depth': 4,\n",
        "    'num_leaves': 34,\n",
        "}\n",
        "\n",
        "lgbm = LGBMClassifier(**Mejores_Parametros_Lgbm)\n",
        "\n",
        "lgbm.fit(X_train, Y_train)\n",
        "\n",
        "Y_pred = lgbm.predict(X_test)"
      ]
    },
    {
      "cell_type": "code",
      "execution_count": null,
      "metadata": {
        "colab": {
          "base_uri": "https://localhost:8080/"
        },
        "id": "2wZl5yR6ALYB",
        "outputId": "05aae650-02e1-4943-fca9-39552178a267"
      },
      "outputs": [
        {
          "output_type": "stream",
          "name": "stdout",
          "text": [
            "Accuracy:  0.8610197191579038\n",
            "[[39821     0   174]\n",
            " [  808     0    17]\n",
            " [ 5464     0   219]]\n",
            "Precision:  0.8082989295439157\n",
            "Recall:  0.8610197191579038\n",
            "F1 - score:  0.8044389912747292\n"
          ]
        },
        {
          "output_type": "stream",
          "name": "stderr",
          "text": [
            "/usr/local/lib/python3.10/dist-packages/sklearn/metrics/_classification.py:1344: UndefinedMetricWarning: Precision is ill-defined and being set to 0.0 in labels with no predicted samples. Use `zero_division` parameter to control this behavior.\n",
            "  _warn_prf(average, modifier, msg_start, len(result))\n"
          ]
        }
      ],
      "source": [
        "# Calculo métricas\n",
        "\n",
        "\n",
        "accuracy_lgbm = accuracy_score(Y_test, Y_pred)\n",
        "\n",
        "cm_lgbm = confusion_matrix(Y_test, Y_pred)\n",
        "\n",
        "precision_lgbm = precision_score(Y_test, Y_pred, average = 'weighted')\n",
        "\n",
        "recall_lgbm = recall_score(Y_test, Y_pred, average = 'weighted')\n",
        "\n",
        "f1_lgbm = f1_score(Y_test, Y_pred, average = 'weighted')\n",
        "\n",
        "#Imprimo métricas\n",
        "\n",
        "print('Accuracy: ', accuracy_lgbm)\n",
        "\n",
        "print(cm_lgbm)\n",
        "\n",
        "print('Precision: ', precision_lgbm)\n",
        "\n",
        "print('Recall: ', recall_lgbm)\n",
        "\n",
        "print('F1 - score: ', f1_lgbm)"
      ]
    },
    {
      "cell_type": "markdown",
      "metadata": {
        "id": "GX_UZW2zCYna"
      },
      "source": [
        "###10-1-4 Random Forest y BayesSearch"
      ]
    },
    {
      "cell_type": "code",
      "execution_count": null,
      "metadata": {
        "id": "95-b-zrkC36f",
        "colab": {
          "base_uri": "https://localhost:8080/"
        },
        "outputId": "ec6d620e-2409-4875-a867-769c2e3c484c"
      },
      "outputs": [
        {
          "output_type": "stream",
          "name": "stdout",
          "text": [
            "Best Parameters: OrderedDict([('max_depth', 16), ('min_samples_split', 11), ('n_estimators', 191)])\n"
          ]
        }
      ],
      "source": [
        "#Defino qué hiperparámetros usaré para RandomForest\n",
        "\n",
        "hiper_rforest = {\n",
        "         'n_estimators': Integer(50, 200),\n",
        "         'max_depth': Integer(10, 70),\n",
        "         'min_samples_split': Integer(2, 15),\n",
        "}\n",
        "\n",
        "# Instancio BayesSearchCV\n",
        "\n",
        "rforest = RandomForestClassifier (random_state = 10000)\n",
        "\n",
        "cv_rforest = StratifiedKFold(n_splits=5, shuffle=True, random_state=10000)\n",
        "\n",
        "bayes_search_rforest = BayesSearchCV(rforest, hiper_rforest, n_iter=5, scoring = 'accuracy', cv = cv_rforest, random_state=10000, n_jobs = -1, verbose = False)\n",
        "\n",
        "# Ajustar BayesSearchCV\n",
        "\n",
        "bayes_search_rforest.fit(X_train, Y_train)\n",
        "\n",
        "# Imprimir mejores parametros\n",
        "\n",
        "print(f'Best Parameters: {bayes_search_rforest.best_params_}')"
      ]
    },
    {
      "cell_type": "code",
      "execution_count": null,
      "metadata": {
        "id": "5oOAyPaBKZT_"
      },
      "outputs": [],
      "source": [
        "#Utilizo los mejores parámetros encontrados por BayesSearchCV\n",
        "\n",
        "Mejores_Parametros_Rforest = {\n",
        "    'min_samples_split': 11,\n",
        "    'max_depth': 16,\n",
        "    'n_estimators': 191,\n",
        "}\n",
        "\n",
        "rfc = RandomForestClassifier(**Mejores_Parametros_Rforest)\n",
        "\n",
        "rfc.fit(X_train, Y_train)\n",
        "\n",
        "Y_pred = rfc.predict(X_test)"
      ]
    },
    {
      "cell_type": "code",
      "execution_count": null,
      "metadata": {
        "id": "WUSL_Dn6LMAw",
        "colab": {
          "base_uri": "https://localhost:8080/"
        },
        "outputId": "17e42074-c7e9-4bf0-9a1f-332d9c33f008"
      },
      "outputs": [
        {
          "output_type": "stream",
          "name": "stdout",
          "text": [
            "Accuracy:  0.8586542803690085\n",
            "[[39396     0   599]\n",
            " [  774     0    51]\n",
            " [ 5149     0   534]]\n",
            "Precision:  0.8027639913282579\n",
            "Recall:  0.8586542803690085\n",
            "F1 - score:  0.8133100797801665\n"
          ]
        },
        {
          "output_type": "stream",
          "name": "stderr",
          "text": [
            "/usr/local/lib/python3.10/dist-packages/sklearn/metrics/_classification.py:1344: UndefinedMetricWarning: Precision is ill-defined and being set to 0.0 in labels with no predicted samples. Use `zero_division` parameter to control this behavior.\n",
            "  _warn_prf(average, modifier, msg_start, len(result))\n"
          ]
        }
      ],
      "source": [
        "# Calculo métricas\n",
        "\n",
        "\n",
        "accuracy_rforest = accuracy_score(Y_test, Y_pred)\n",
        "\n",
        "cm_rforest = confusion_matrix(Y_test, Y_pred)\n",
        "\n",
        "precision_rforest = precision_score(Y_test, Y_pred, average = 'weighted')\n",
        "\n",
        "recall_rforest = recall_score(Y_test, Y_pred, average = 'weighted')\n",
        "\n",
        "f1_rforest = f1_score(Y_test, Y_pred, average = 'weighted')\n",
        "\n",
        "#Imprimo métricas\n",
        "\n",
        "print('Accuracy: ', accuracy_rforest)\n",
        "\n",
        "print(cm_rforest)\n",
        "\n",
        "print('Precision: ', precision_rforest)\n",
        "\n",
        "print('Recall: ', recall_rforest)\n",
        "\n",
        "print('F1 - score: ', f1_rforest)"
      ]
    },
    {
      "cell_type": "markdown",
      "metadata": {
        "id": "8-PHlGaj96ix"
      },
      "source": [
        "##Conclusiones: de los cuatro modelos implementados, el que mejor métricas arroja es Catboost, pero la diferencia se da en las milésimas de las métricas. Con respecto a normalizar los datos, Catboost y XGBoost arrojan los mismos resultados que cuando no se normalizan los datos, mientras que LightGBM y RandomForest dan métricas ligeramente mejor. En todos los casos, las métricas mejoran aproximadamente un 3% haciendo tratamiento de outliers. Se van a dejar en el enlace la notebook sin datos normalizados, además de un archivo Excel en el figurarán todas las métricas recogidas durante la prueba de los modelos."
      ]
    },
    {
      "cell_type": "markdown",
      "metadata": {
        "id": "CrZ6U7Ly9IhH"
      },
      "source": [
        "#11 - PCA (Principal Components Analysis)"
      ]
    },
    {
      "cell_type": "code",
      "execution_count": null,
      "metadata": {
        "id": "mOxZbxM19O3T",
        "colab": {
          "base_uri": "https://localhost:8080/"
        },
        "outputId": "4a2638bc-64a7-41d0-b501-3c2c78cec9dc"
      },
      "outputs": [
        {
          "output_type": "stream",
          "name": "stdout",
          "text": [
            "             Age  AnyHealthcare       BMI  CholCheck  DiffWalk  Education  \\\n",
            "0      -0.295572      -0.848568 -0.844929  -4.676837 -0.529568   1.130784   \n",
            "1      -0.295572       1.178456 -0.844929   0.213820 -0.112798  -0.884342   \n",
            "2      -0.295572       1.178456  1.183531   0.213820 -0.737953  -0.884342   \n",
            "3      -0.295572       1.178456  1.183531   0.213820 -0.529568   1.130784   \n",
            "4      -0.295572       1.178456  1.183531   0.213820 -0.529568   1.130784   \n",
            "...          ...            ...       ...        ...       ...        ...   \n",
            "155004 -0.295572      -0.848568 -0.844929   0.213820 -0.112798  -0.884342   \n",
            "155005 -0.295572       1.178456  1.183531   0.213820 -1.988262  -0.884342   \n",
            "155006 -0.295572      -0.848568 -0.844929   0.213820  0.095587  -0.884342   \n",
            "155007 -0.295572       1.178456 -0.844929   0.213820 -0.946338  -0.884342   \n",
            "155008  3.383271       1.178456  1.183531   0.213820 -0.529568  -0.884342   \n",
            "\n",
            "         Fruits   GenHlth  HeartDiseaseorAttack    HighBP  ...    Income  \\\n",
            "0      -0.18035  0.527770             -1.299752 -2.039419  ...  3.945165   \n",
            "1      -0.18035  0.527770              0.769378  0.490336  ... -0.253475   \n",
            "2      -0.18035  0.527770              0.769378  0.490336  ... -0.253475   \n",
            "3      -0.18035  0.527770              0.769378  0.490336  ... -0.253475   \n",
            "4      -0.18035  0.527770             -1.299752  0.490336  ... -0.253475   \n",
            "...         ...       ...                   ...       ...  ...       ...   \n",
            "155004 -0.18035 -1.894766             -1.299752  0.490336  ... -0.253475   \n",
            "155005 -0.18035 -1.894766             -1.299752 -2.039419  ... -0.253475   \n",
            "155006 -0.18035  0.527770              0.769378 -2.039419  ... -0.253475   \n",
            "155007 -0.18035 -1.894766              0.769378  0.490336  ... -0.253475   \n",
            "155008 -0.18035  0.527770              0.769378 -2.039419  ... -0.253475   \n",
            "\n",
            "        MentHlth  NoDocbcCost  PhysActivity  PhysHlth      Sex    Smoker  \\\n",
            "0       0.823728    -0.409995     -0.470540 -0.317464 -0.94361 -0.375326   \n",
            "1      -0.332883    -0.409995     -0.470540 -0.317464 -0.94361  0.906091   \n",
            "2      -0.332883     2.886777     -0.470540 -0.317464 -0.94361  0.906091   \n",
            "3      -0.332883    -0.409995      0.760418 -0.317464  1.05976  0.585737   \n",
            "4       0.823728    -0.409995     -0.470540  3.149965 -0.94361  0.906091   \n",
            "...          ...          ...           ...       ...      ...       ...   \n",
            "155004 -1.489494    -0.409995     -0.470540 -0.317464 -0.94361 -1.656743   \n",
            "155005  1.980339    -0.409995     -0.470540  3.149965 -0.94361  0.906091   \n",
            "155006 -1.489494    -0.409995     -0.470540 -0.317464 -0.94361 -1.977098   \n",
            "155007  0.823728    -0.409995     -0.470540 -0.317464  1.05976 -0.375326   \n",
            "155008 -0.332883    -0.409995     -0.470540 -0.317464 -0.94361  0.265383   \n",
            "\n",
            "          Stroke   Veggies  Diabetes  \n",
            "0       0.982998 -2.702195       0.0  \n",
            "1      -2.120205 -0.101079       0.0  \n",
            "2      -0.051403 -1.141525       0.0  \n",
            "3       0.982998  0.939368       0.0  \n",
            "4      -1.085804 -1.141525       0.0  \n",
            "...          ...       ...       ...  \n",
            "155004  0.982998 -0.621302       0.0  \n",
            "155005 -3.154606 -1.141525       2.0  \n",
            "155006 -0.051403 -2.181972       0.0  \n",
            "155007 -0.051403 -2.702195       0.0  \n",
            "155008  0.982998 -2.181972       2.0  \n",
            "\n",
            "[155009 rows x 22 columns]\n"
          ]
        }
      ],
      "source": [
        "#Asignación de variables\n",
        "\n",
        "X = dfdiabetes_sin_outliers.drop('Diabetes', axis = 1)\n",
        "\n",
        "Y = dfdiabetes_sin_outliers['Diabetes']\n",
        "\n",
        "#Escalo las variables\n",
        "\n",
        "scaler = StandardScaler()\n",
        "\n",
        "X_escalado = scaler.fit_transform(X)\n",
        "\n",
        "dfescalado = pd.DataFrame(X_escalado, columns = dfdiabetes.columns.difference(['Diabetes']))\n",
        "\n",
        "dfescalado = pd.concat([dfescalado, Y], axis=1)\n",
        "\n",
        "#Imprimo el dataframe escalado\n",
        "\n",
        "print(dfescalado)"
      ]
    },
    {
      "cell_type": "code",
      "execution_count": null,
      "metadata": {
        "id": "j1ZbgtfV_v91",
        "colab": {
          "base_uri": "https://localhost:8080/"
        },
        "outputId": "a4bd2dbb-e0f1-47fc-a788-f81a0670a7d0"
      },
      "outputs": [
        {
          "output_type": "stream",
          "name": "stdout",
          "text": [
            "            CP_0      CP_1      CP_2      CP_3      CP_4      CP_5      CP_6  \\\n",
            "0       2.517518  0.488888  5.022962 -0.998843  0.807119 -1.404435 -1.394678   \n",
            "1       0.565227 -2.898094  0.166605 -0.895404 -1.048462  0.893594  1.263506   \n",
            "2       3.588726 -2.977865  1.633299 -0.667815  2.686894  0.958071  0.555609   \n",
            "3       2.557483 -1.559226 -2.176622  1.364258 -0.134397 -0.505451 -0.264028   \n",
            "4       2.510147 -3.247257  1.993936 -0.831021 -0.494437  0.583679 -0.350538   \n",
            "...          ...       ...       ...       ...       ...       ...       ...   \n",
            "155004  0.549739  5.058945  1.547089 -0.953963  0.360293 -1.625851  0.235819   \n",
            "155005  9.421860 -3.321290  2.706221 -0.738263 -1.848059  2.530814 -0.372190   \n",
            "155006 -0.472078  5.568291  4.755904 -1.209478  0.329022 -1.743864  0.662749   \n",
            "155007  4.469423  0.390059  5.197411 -1.008666  0.231085 -0.765828 -1.103671   \n",
            "155008  2.554747 -1.419330  3.593645 -0.990817  0.957859 -1.684843 -0.685608   \n",
            "\n",
            "            CP_7      CP_8      CP_9  ...     CP_12     CP_13     CP_14  \\\n",
            "0       0.492737 -0.744522 -0.469109  ... -0.375673  0.601679 -0.202297   \n",
            "1      -0.927045  0.076030  0.198545  ... -0.298143 -0.029049 -0.112839   \n",
            "2      -0.287070  0.548775  0.682490  ... -0.107792 -0.030885 -0.193118   \n",
            "3       0.589697  0.936476 -0.049192  ...  0.012044  0.039660 -0.166493   \n",
            "4       0.281148  0.270153  0.361339  ... -0.540997 -0.280400  0.622729   \n",
            "...          ...       ...       ...  ...       ...       ...       ...   \n",
            "155004  0.060019 -0.639701  0.442211  ...  0.525794 -0.561350  0.035684   \n",
            "155005 -0.113403 -0.533124  1.265597  ...  0.420063  0.228609  0.525334   \n",
            "155006 -0.298608 -0.027259  0.239691  ...  0.070760  0.874891  0.079140   \n",
            "155007  0.049563  0.110404  0.058052  ...  0.757417 -0.402715 -0.289070   \n",
            "155008  0.021903  0.439786  0.897190  ...  0.029345  0.870553  0.277353   \n",
            "\n",
            "           CP_15     CP_16     CP_17     CP_18     CP_19     CP_20  Diabetes  \n",
            "0      -0.014304  1.293782 -0.208067  0.684971  0.267736 -0.025535       0.0  \n",
            "1      -0.001029 -0.044670 -0.035697 -0.022751  0.013796 -0.024842       0.0  \n",
            "2      -0.052285 -0.091040 -0.042765  0.020410  0.004627 -0.040809       0.0  \n",
            "3      -0.136302 -0.022378 -0.143036  0.005054 -0.016550 -0.030392       0.0  \n",
            "4      -0.539047 -0.124774 -0.132974  0.038232 -0.003968 -0.103988       0.0  \n",
            "...          ...       ...       ...       ...       ...       ...       ...  \n",
            "155004  0.139439 -0.182321 -0.037497 -0.078941 -0.020359  0.008223       0.0  \n",
            "155005 -0.516814 -0.123288 -0.031556  0.012940  0.018982 -0.119638       2.0  \n",
            "155006  0.102084 -0.240058  0.047654 -0.085999  0.018844 -0.003528       0.0  \n",
            "155007 -0.022119 -0.238517  0.009397 -0.083573  0.031750 -0.046422       0.0  \n",
            "155008  0.821422 -0.070421  0.143669  0.029801  0.025561 -0.162294       2.0  \n",
            "\n",
            "[155009 rows x 22 columns]\n"
          ]
        }
      ],
      "source": [
        "#Implemento PCA\n",
        "\n",
        "pca = PCA()\n",
        "\n",
        "X_pca = pca.fit_transform(X)\n",
        "\n",
        "#Debo volcar los datos a un dataframe, dado que se devuelve como un objeto de Numpy\n",
        "\n",
        "dfpca = pd.DataFrame(X_pca)\n",
        "\n",
        "#Nombro las columnas\n",
        "\n",
        "dfpca.columns = ['CP_'+str(i) for i in range(dfpca.shape[1])]\n",
        "\n",
        "dfpca = pd.concat([dfpca, Y], axis = 1)\n",
        "\n",
        "print(dfpca)\n"
      ]
    },
    {
      "cell_type": "code",
      "execution_count": null,
      "metadata": {
        "id": "Cwv6vhb7LtYI",
        "colab": {
          "base_uri": "https://localhost:8080/",
          "height": 745
        },
        "outputId": "b46ca743-d827-48b9-ecc8-19baf35233a5"
      },
      "outputs": [
        {
          "output_type": "display_data",
          "data": {
            "text/plain": [
              "<Figure size 1200x800 with 1 Axes>"
            ],
            "image/png": "[encoded data removed]"
          },
          "metadata": {}
        },
        {
          "output_type": "stream",
          "name": "stdout",
          "text": [
            "[0.53014966 0.22915983 0.08743184 0.06131256 0.0188871  0.01771417\n",
            " 0.01408906 0.00657291 0.00551728 0.00538094 0.00484695 0.0039544\n",
            " 0.00360406 0.00302249 0.00170563 0.00148853 0.00136838 0.00129687\n",
            " 0.0009725  0.00086317 0.00066166]\n"
          ]
        }
      ],
      "source": [
        "# Observo la varianza de cada componente principal\n",
        "\n",
        "varianza_explicada = pca.explained_variance_ratio_\n",
        "\n",
        "# Grafico\n",
        "\n",
        "plt.figure(figsize=(12,8))\n",
        "plt.bar(range(1, len(varianza_explicada) + 1), varianza_explicada)\n",
        "plt.xticks(range(1, len(varianza_explicada) + 1))\n",
        "plt.show()\n",
        "\n",
        "print(varianza_explicada)"
      ]
    },
    {
      "cell_type": "code",
      "execution_count": null,
      "metadata": {
        "id": "Mw2hOp_VN1i1",
        "colab": {
          "base_uri": "https://localhost:8080/"
        },
        "outputId": "0f33c562-4b66-45a7-f947-4f5e77b48bc0"
      },
      "outputs": [
        {
          "output_type": "stream",
          "name": "stdout",
          "text": [
            "            CP_1      CP_2      CP_3      CP_4 Diabetes\n",
            "0       0.488888  5.022962 -0.998843  0.807119      0.0\n",
            "1      -2.898094  0.166605 -0.895404 -1.048462      0.0\n",
            "2      -2.977865  1.633299 -0.667815  2.686894      0.0\n",
            "3      -1.559226 -2.176622  1.364258 -0.134397      0.0\n",
            "4      -3.247257  1.993936 -0.831021 -0.494437      0.0\n",
            "...          ...       ...       ...       ...      ...\n",
            "155004  5.058945  1.547089 -0.953963  0.360293      0.0\n",
            "155005 -3.321290  2.706221 -0.738263 -1.848059      2.0\n",
            "155006  5.568291  4.755904 -1.209478  0.329022      0.0\n",
            "155007  0.390059  5.197411 -1.008666  0.231085      0.0\n",
            "155008 -1.419330  3.593645 -0.990817  0.957859      2.0\n",
            "\n",
            "[155009 rows x 5 columns]\n"
          ]
        }
      ],
      "source": [
        "#Creo un dataframe con los cuatro componentes principales de mayor varianza\n",
        "\n",
        "vector_pc = ['CP_1', 'CP_2', 'CP_3', 'CP_4']\n",
        "\n",
        "dfpca_componentes = dfpca[vector_pc].copy()\n",
        "\n",
        "#Concateno con mi variable a predecir\n",
        "\n",
        "dfpca_componentes = pd.concat([dfpca_componentes, Y], axis = 1)\n",
        "\n",
        "print(dfpca_componentes)"
      ]
    },
    {
      "cell_type": "code",
      "execution_count": null,
      "metadata": {
        "id": "AF4PteP9R4p-"
      },
      "outputs": [],
      "source": [
        "#Defino X e Y y divido en training y testing\n",
        "\n",
        "X = dfpca_componentes.drop('Diabetes', axis=1)\n",
        "Y = dfpca_componentes['Diabetes']\n",
        "\n",
        "X_train, X_test, Y_train, Y_test = train_test_split(X, Y, test_size = 0.3, stratify = Y, random_state = 10000)"
      ]
    },
    {
      "cell_type": "markdown",
      "source": [
        "## A continuación se aplicarán los mismos modelos que se usaron para Polynomial Features más canaritos, incluida la búsqueda de los mejores hiperparámetros con Bayes Search."
      ],
      "metadata": {
        "id": "vZdGS-7TPjLs"
      }
    },
    {
      "cell_type": "code",
      "execution_count": null,
      "metadata": {
        "id": "xdbbJD-Fsfd2",
        "colab": {
          "base_uri": "https://localhost:8080/"
        },
        "outputId": "75a6b439-4ef5-4964-bd88-3118053b3ea5"
      },
      "outputs": [
        {
          "output_type": "stream",
          "name": "stdout",
          "text": [
            "0:\tlearn: 1.0219523\ttotal: 45.3ms\tremaining: 997ms\n",
            "1:\tlearn: 0.9571227\ttotal: 82.4ms\tremaining: 865ms\n",
            "2:\tlearn: 0.9018901\ttotal: 123ms\tremaining: 818ms\n",
            "3:\tlearn: 0.8539560\ttotal: 160ms\tremaining: 760ms\n",
            "4:\tlearn: 0.8119902\ttotal: 196ms\tremaining: 704ms\n",
            "5:\tlearn: 0.7750417\ttotal: 231ms\tremaining: 654ms\n",
            "6:\tlearn: 0.7424732\ttotal: 284ms\tremaining: 649ms\n",
            "7:\tlearn: 0.7134997\ttotal: 325ms\tremaining: 610ms\n",
            "8:\tlearn: 0.6875392\ttotal: 364ms\tremaining: 566ms\n",
            "9:\tlearn: 0.6641700\ttotal: 403ms\tremaining: 524ms\n",
            "10:\tlearn: 0.6432370\ttotal: 440ms\tremaining: 480ms\n",
            "11:\tlearn: 0.6243612\ttotal: 475ms\tremaining: 435ms\n",
            "12:\tlearn: 0.6073703\ttotal: 539ms\tremaining: 415ms\n",
            "13:\tlearn: 0.5918939\ttotal: 607ms\tremaining: 390ms\n",
            "14:\tlearn: 0.5778246\ttotal: 665ms\tremaining: 354ms\n",
            "15:\tlearn: 0.5650263\ttotal: 750ms\tremaining: 328ms\n",
            "16:\tlearn: 0.5533473\ttotal: 828ms\tremaining: 292ms\n",
            "17:\tlearn: 0.5427152\ttotal: 907ms\tremaining: 252ms\n",
            "18:\tlearn: 0.5329740\ttotal: 972ms\tremaining: 205ms\n",
            "19:\tlearn: 0.5240938\ttotal: 1.05s\tremaining: 158ms\n",
            "20:\tlearn: 0.5160219\ttotal: 1.13s\tremaining: 108ms\n",
            "21:\tlearn: 0.5086317\ttotal: 1.22s\tremaining: 55.2ms\n",
            "22:\tlearn: 0.5019481\ttotal: 1.3s\tremaining: 0us\n",
            "Best Parameters: OrderedDict([('depth', 5), ('iterations', 23), ('learning_rate', 0.061370041696483815)])\n"
          ]
        }
      ],
      "source": [
        "#Defino qué hiperparámetros usaré para Catboost\n",
        "\n",
        "hiper_cboost_pca = {\n",
        "         'learning_rate': Real(0.01, 0.3, 'uniform'),\n",
        "         'depth': Integer(3, 10),\n",
        "         'iterations': Integer(10, 100),\n",
        "}\n",
        "\n",
        "# Instancio BayesSearchCV\n",
        "\n",
        "cboost_pca = CatBoostClassifier (random_state = 10000)\n",
        "\n",
        "cv_cboost_pca = StratifiedKFold(n_splits=5, shuffle=True, random_state=10000)\n",
        "\n",
        "bayes_search_cboost_pca = BayesSearchCV(cboost_pca, hiper_cboost_pca, n_iter=5, scoring = 'accuracy', cv = cv_cboost_pca, random_state=10000, n_jobs = -1, verbose = False)\n",
        "\n",
        "# Ajustar BayesSearchCV\n",
        "\n",
        "bayes_search_cboost_pca.fit(X_train, Y_train)\n",
        "\n",
        "# Imprimir mejores parametros\n",
        "\n",
        "print(f'Best Parameters: {bayes_search_cboost_pca.best_params_}')"
      ]
    },
    {
      "cell_type": "code",
      "execution_count": null,
      "metadata": {
        "id": "9hHbZ_f3s-_d",
        "colab": {
          "base_uri": "https://localhost:8080/"
        },
        "outputId": "69e8f9c2-02fb-4250-cf9f-44a400504737"
      },
      "outputs": [
        {
          "output_type": "stream",
          "name": "stdout",
          "text": [
            "0:\tlearn: 0.8885064\ttotal: 73.1ms\tremaining: 5.99s\n",
            "1:\tlearn: 0.7612401\ttotal: 135ms\tremaining: 5.45s\n",
            "2:\tlearn: 0.6756819\ttotal: 197ms\tremaining: 5.26s\n",
            "3:\tlearn: 0.6149818\ttotal: 261ms\tremaining: 5.16s\n",
            "4:\tlearn: 0.5705638\ttotal: 332ms\tremaining: 5.18s\n",
            "5:\tlearn: 0.5370059\ttotal: 396ms\tremaining: 5.08s\n",
            "6:\tlearn: 0.5114974\ttotal: 456ms\tremaining: 4.95s\n",
            "7:\tlearn: 0.4918265\ttotal: 535ms\tremaining: 5.01s\n",
            "8:\tlearn: 0.4767869\ttotal: 600ms\tremaining: 4.93s\n",
            "9:\tlearn: 0.4655098\ttotal: 660ms\tremaining: 4.82s\n",
            "10:\tlearn: 0.4563313\ttotal: 728ms\tremaining: 4.76s\n",
            "11:\tlearn: 0.4494089\ttotal: 798ms\tremaining: 4.72s\n",
            "12:\tlearn: 0.4439226\ttotal: 861ms\tremaining: 4.63s\n",
            "13:\tlearn: 0.4396392\ttotal: 921ms\tremaining: 4.54s\n",
            "14:\tlearn: 0.4361985\ttotal: 982ms\tremaining: 4.45s\n",
            "15:\tlearn: 0.4336722\ttotal: 1.05s\tremaining: 4.4s\n",
            "16:\tlearn: 0.4312932\ttotal: 1.11s\tremaining: 4.31s\n",
            "17:\tlearn: 0.4294477\ttotal: 1.17s\tremaining: 4.23s\n",
            "18:\tlearn: 0.4281944\ttotal: 1.23s\tremaining: 4.15s\n",
            "19:\tlearn: 0.4271344\ttotal: 1.3s\tremaining: 4.11s\n",
            "20:\tlearn: 0.4262920\ttotal: 1.37s\tremaining: 4.03s\n",
            "21:\tlearn: 0.4257163\ttotal: 1.43s\tremaining: 3.96s\n",
            "22:\tlearn: 0.4250800\ttotal: 1.49s\tremaining: 3.88s\n",
            "23:\tlearn: 0.4246346\ttotal: 1.57s\tremaining: 3.85s\n",
            "24:\tlearn: 0.4239506\ttotal: 1.63s\tremaining: 3.78s\n",
            "25:\tlearn: 0.4235938\ttotal: 1.69s\tremaining: 3.7s\n",
            "26:\tlearn: 0.4226542\ttotal: 1.75s\tremaining: 3.63s\n",
            "27:\tlearn: 0.4224208\ttotal: 1.81s\tremaining: 3.56s\n",
            "28:\tlearn: 0.4220455\ttotal: 1.88s\tremaining: 3.5s\n",
            "29:\tlearn: 0.4214874\ttotal: 1.94s\tremaining: 3.42s\n",
            "30:\tlearn: 0.4211514\ttotal: 2s\tremaining: 3.35s\n",
            "31:\tlearn: 0.4209055\ttotal: 2.06s\tremaining: 3.29s\n",
            "32:\tlearn: 0.4206275\ttotal: 2.13s\tremaining: 3.22s\n",
            "33:\tlearn: 0.4204062\ttotal: 2.19s\tremaining: 3.15s\n",
            "34:\tlearn: 0.4201243\ttotal: 2.25s\tremaining: 3.09s\n",
            "35:\tlearn: 0.4198107\ttotal: 2.32s\tremaining: 3.03s\n",
            "36:\tlearn: 0.4196723\ttotal: 2.38s\tremaining: 2.96s\n",
            "37:\tlearn: 0.4195027\ttotal: 2.44s\tremaining: 2.9s\n",
            "38:\tlearn: 0.4188815\ttotal: 2.5s\tremaining: 2.83s\n",
            "39:\tlearn: 0.4187307\ttotal: 2.58s\tremaining: 2.78s\n",
            "40:\tlearn: 0.4186454\ttotal: 2.65s\tremaining: 2.71s\n",
            "41:\tlearn: 0.4182486\ttotal: 2.7s\tremaining: 2.64s\n",
            "42:\tlearn: 0.4180151\ttotal: 2.76s\tremaining: 2.57s\n",
            "43:\tlearn: 0.4176883\ttotal: 2.83s\tremaining: 2.51s\n",
            "44:\tlearn: 0.4175581\ttotal: 2.89s\tremaining: 2.44s\n",
            "45:\tlearn: 0.4173854\ttotal: 2.95s\tremaining: 2.37s\n",
            "46:\tlearn: 0.4171372\ttotal: 3.01s\tremaining: 2.31s\n",
            "47:\tlearn: 0.4167153\ttotal: 3.08s\tremaining: 2.24s\n",
            "48:\tlearn: 0.4164089\ttotal: 3.14s\tremaining: 2.18s\n",
            "49:\tlearn: 0.4161741\ttotal: 3.2s\tremaining: 2.11s\n",
            "50:\tlearn: 0.4159868\ttotal: 3.27s\tremaining: 2.05s\n",
            "51:\tlearn: 0.4157984\ttotal: 3.34s\tremaining: 1.99s\n",
            "52:\tlearn: 0.4156571\ttotal: 3.4s\tremaining: 1.92s\n",
            "53:\tlearn: 0.4155357\ttotal: 3.46s\tremaining: 1.86s\n",
            "54:\tlearn: 0.4152547\ttotal: 3.53s\tremaining: 1.8s\n",
            "55:\tlearn: 0.4148461\ttotal: 3.61s\tremaining: 1.74s\n",
            "56:\tlearn: 0.4147631\ttotal: 3.67s\tremaining: 1.68s\n",
            "57:\tlearn: 0.4146252\ttotal: 3.73s\tremaining: 1.61s\n",
            "58:\tlearn: 0.4143751\ttotal: 3.8s\tremaining: 1.54s\n",
            "59:\tlearn: 0.4139722\ttotal: 3.86s\tremaining: 1.48s\n",
            "60:\tlearn: 0.4136218\ttotal: 3.92s\tremaining: 1.42s\n",
            "61:\tlearn: 0.4133481\ttotal: 3.98s\tremaining: 1.35s\n",
            "62:\tlearn: 0.4129159\ttotal: 4.05s\tremaining: 1.28s\n",
            "63:\tlearn: 0.4125446\ttotal: 4.12s\tremaining: 1.22s\n",
            "64:\tlearn: 0.4121083\ttotal: 4.18s\tremaining: 1.16s\n",
            "65:\tlearn: 0.4119683\ttotal: 4.24s\tremaining: 1.09s\n",
            "66:\tlearn: 0.4118790\ttotal: 4.3s\tremaining: 1.03s\n",
            "67:\tlearn: 0.4117066\ttotal: 4.36s\tremaining: 963ms\n",
            "68:\tlearn: 0.4114371\ttotal: 4.43s\tremaining: 899ms\n",
            "69:\tlearn: 0.4110940\ttotal: 4.49s\tremaining: 834ms\n",
            "70:\tlearn: 0.4109435\ttotal: 4.55s\tremaining: 770ms\n",
            "71:\tlearn: 0.4106493\ttotal: 4.63s\tremaining: 708ms\n",
            "72:\tlearn: 0.4105257\ttotal: 4.7s\tremaining: 643ms\n",
            "73:\tlearn: 0.4104101\ttotal: 4.76s\tremaining: 579ms\n",
            "74:\tlearn: 0.4102423\ttotal: 4.82s\tremaining: 515ms\n",
            "75:\tlearn: 0.4101134\ttotal: 4.89s\tremaining: 450ms\n",
            "76:\tlearn: 0.4096469\ttotal: 4.95s\tremaining: 386ms\n",
            "77:\tlearn: 0.4095595\ttotal: 5.02s\tremaining: 322ms\n",
            "78:\tlearn: 0.4094412\ttotal: 5.12s\tremaining: 259ms\n",
            "79:\tlearn: 0.4092828\ttotal: 5.23s\tremaining: 196ms\n",
            "80:\tlearn: 0.4091557\ttotal: 5.32s\tremaining: 131ms\n",
            "81:\tlearn: 0.4090417\ttotal: 5.44s\tremaining: 66.3ms\n",
            "82:\tlearn: 0.4086683\ttotal: 5.53s\tremaining: 0us\n"
          ]
        }
      ],
      "source": [
        "#Utilizo los mejores parámetros encontrados por BayesSearchCV\n",
        "\n",
        "Mejores_Parametros_Cboost_Pca = {\n",
        "    'learning_rate': 0.18,\n",
        "    'depth': 8,\n",
        "    'iterations': 83\n",
        "}\n",
        "\n",
        "cbc = CatBoostClassifier(**Mejores_Parametros_Cboost_Pca)\n",
        "\n",
        "cbc.fit(X_train, Y_train)\n",
        "\n",
        "Y_pred = cbc.predict(X_test)"
      ]
    },
    {
      "cell_type": "code",
      "execution_count": null,
      "metadata": {
        "id": "_CXTHAbstcQN",
        "colab": {
          "base_uri": "https://localhost:8080/"
        },
        "outputId": "7bb09d41-e4c2-4590-e79a-586555313739"
      },
      "outputs": [
        {
          "output_type": "stream",
          "name": "stdout",
          "text": [
            "Accuracy:  0.8599875276863859\n",
            "[[39986     0     9]\n",
            " [  824     0     1]\n",
            " [ 5677     0     6]]\n",
            "Precision:  0.7856052792084347\n",
            "Recall:  0.8599875276863859\n",
            "F1 - score:  0.7955682749830165\n"
          ]
        },
        {
          "output_type": "stream",
          "name": "stderr",
          "text": [
            "/usr/local/lib/python3.10/dist-packages/sklearn/metrics/_classification.py:1344: UndefinedMetricWarning: Precision is ill-defined and being set to 0.0 in labels with no predicted samples. Use `zero_division` parameter to control this behavior.\n",
            "  _warn_prf(average, modifier, msg_start, len(result))\n"
          ]
        }
      ],
      "source": [
        "# Calculo métricas\n",
        "\n",
        "\n",
        "accuracy_cboost_pca = accuracy_score(Y_test, Y_pred)\n",
        "\n",
        "cm_cboost_pca = confusion_matrix(Y_test, Y_pred)\n",
        "\n",
        "precision_cboost_pca = precision_score(Y_test, Y_pred, average = 'weighted')\n",
        "\n",
        "recall_cboost_pca = recall_score(Y_test, Y_pred, average = 'weighted')\n",
        "\n",
        "f1_cboost_pca = f1_score(Y_test, Y_pred, average = 'weighted')\n",
        "\n",
        "#Imprimo métricas\n",
        "\n",
        "print('Accuracy: ', accuracy_cboost_pca)\n",
        "\n",
        "print(cm_cboost_pca)\n",
        "\n",
        "print('Precision: ', precision_cboost_pca)\n",
        "\n",
        "print('Recall: ', recall_cboost_pca)\n",
        "\n",
        "print('F1 - score: ', f1_cboost_pca)"
      ]
    },
    {
      "cell_type": "code",
      "execution_count": null,
      "metadata": {
        "id": "K-rwYbwmuTP5",
        "colab": {
          "base_uri": "https://localhost:8080/"
        },
        "outputId": "2a5b9306-b7df-4310-b43f-62f757e15364"
      },
      "outputs": [
        {
          "output_type": "stream",
          "name": "stderr",
          "text": [
            "/usr/local/lib/python3.10/dist-packages/xgboost/core.py:160: UserWarning: [23:50:53] WARNING: /workspace/src/learner.cc:742: \n",
            "Parameters: { \"n_stimators\" } are not used.\n",
            "\n",
            "  warnings.warn(smsg, UserWarning)\n"
          ]
        },
        {
          "output_type": "stream",
          "name": "stdout",
          "text": [
            "Best Parameters: OrderedDict([('learning_rate', 0.06180492639967771), ('max_depth', 4), ('n_estimators', 153)])\n"
          ]
        }
      ],
      "source": [
        "#Ahora buscaremos los hiperparámetros \"óptimos\" para XGboost.\n",
        "\n",
        "hiper_xgboost_pca = {\n",
        "         'learning_rate': Real(0.05, 0.1, 'uniform'),\n",
        "         'n_estimators': Integer(100, 400),\n",
        "         'max_depth': Integer(3, 7),\n",
        "}\n",
        "\n",
        "# Instancio BayesSearchCV\n",
        "\n",
        "xgboost_pca = XGBClassifier (n_stimators = 100, random_state = 10000)\n",
        "\n",
        "cv_xgboost_pca = StratifiedKFold(n_splits=5, shuffle=True, random_state=10000)\n",
        "\n",
        "bayes_search_xgboost_pca = BayesSearchCV(xgboost_pca, hiper_xgboost_pca, n_iter=5, scoring = 'accuracy', cv = cv_xgboost_pca, random_state=10000, n_jobs = -1, verbose = False)\n",
        "\n",
        "# Ajustar BayesSearchCV\n",
        "\n",
        "bayes_search_xgboost_pca.fit(X_train, Y_train)\n",
        "\n",
        "# Imprimir mejores parametros\n",
        "\n",
        "print(f'Best Parameters: {bayes_search_xgboost_pca.best_params_}')"
      ]
    },
    {
      "cell_type": "code",
      "execution_count": null,
      "metadata": {
        "id": "VlqzpnLNu4HM",
        "colab": {
          "base_uri": "https://localhost:8080/"
        },
        "outputId": "9d8c75e4-98a7-45ea-ff5a-5a145acab687"
      },
      "outputs": [
        {
          "output_type": "stream",
          "name": "stderr",
          "text": [
            "/usr/local/lib/python3.10/dist-packages/xgboost/core.py:160: UserWarning: [23:53:06] WARNING: /workspace/src/learner.cc:742: \n",
            "Parameters: { \"n_stimators\" } are not used.\n",
            "\n",
            "  warnings.warn(smsg, UserWarning)\n"
          ]
        }
      ],
      "source": [
        "#Utilizo los mejores parámetros encontrados por BayesSearchCV\n",
        "\n",
        "Mejores_Parametros_XGboost_Pca = {\n",
        "    'learning_rate': 0.06,\n",
        "    'max_depth': 4,\n",
        "    'n_stimators': 153,\n",
        "}\n",
        "\n",
        "xgb = XGBClassifier(**Mejores_Parametros_XGboost_Pca)\n",
        "\n",
        "xgb.fit(X_train, Y_train)\n",
        "\n",
        "Y_pred = xgb.predict(X_test)"
      ]
    },
    {
      "cell_type": "code",
      "execution_count": null,
      "metadata": {
        "id": "aeCaNhm1v5Ju",
        "colab": {
          "base_uri": "https://localhost:8080/"
        },
        "outputId": "d87c78b4-7a26-43cb-c159-fc5e2b6ab65a"
      },
      "outputs": [
        {
          "output_type": "stream",
          "name": "stdout",
          "text": [
            "Accuracy:  0.8600520396533557\n",
            "[[39995     0     0]\n",
            " [  825     0     0]\n",
            " [ 5683     0     0]]\n",
            "Precision:  0.7396895109118973\n",
            "Recall:  0.8600520396533557\n",
            "F1 - score:  0.7953428131502686\n"
          ]
        },
        {
          "output_type": "stream",
          "name": "stderr",
          "text": [
            "/usr/local/lib/python3.10/dist-packages/sklearn/metrics/_classification.py:1344: UndefinedMetricWarning: Precision is ill-defined and being set to 0.0 in labels with no predicted samples. Use `zero_division` parameter to control this behavior.\n",
            "  _warn_prf(average, modifier, msg_start, len(result))\n"
          ]
        }
      ],
      "source": [
        "# Calculo métricas\n",
        "\n",
        "\n",
        "accuracy_xgboost_pca = accuracy_score(Y_test, Y_pred)\n",
        "\n",
        "cm_xgboost_pca = confusion_matrix(Y_test, Y_pred)\n",
        "\n",
        "precision_xgboost_pca = precision_score(Y_test, Y_pred, average = 'weighted')\n",
        "\n",
        "recall_xgboost_pca = recall_score(Y_test, Y_pred, average = 'weighted')\n",
        "\n",
        "f1_xgboost_pca = f1_score(Y_test, Y_pred, average = 'weighted')\n",
        "\n",
        "#Imprimo métricas\n",
        "\n",
        "print('Accuracy: ', accuracy_xgboost_pca)\n",
        "\n",
        "print(cm_xgboost_pca)\n",
        "\n",
        "print('Precision: ', precision_xgboost_pca)\n",
        "\n",
        "print('Recall: ', recall_xgboost_pca)\n",
        "\n",
        "print('F1 - score: ', f1_xgboost_pca)"
      ]
    },
    {
      "cell_type": "code",
      "execution_count": null,
      "metadata": {
        "id": "ajjBMYnkwT2E",
        "colab": {
          "base_uri": "https://localhost:8080/"
        },
        "outputId": "7378a7be-c99c-4659-fcc4-6d92d97de1be"
      },
      "outputs": [
        {
          "output_type": "stream",
          "name": "stdout",
          "text": [
            "[LightGBM] [Info] Auto-choosing col-wise multi-threading, the overhead of testing was 0.007268 seconds.\n",
            "You can set `force_col_wise=true` to remove the overhead.\n",
            "[LightGBM] [Info] Total Bins 1020\n",
            "[LightGBM] [Info] Number of data points in the train set: 108506, number of used features: 4\n",
            "[LightGBM] [Info] Start training from score -0.150760\n",
            "[LightGBM] [Info] Start training from score -4.031360\n",
            "[LightGBM] [Info] Start training from score -2.102129\n",
            "Best Parameters: OrderedDict([('learning_rate', 0.018680577297831014), ('max_depth', 8), ('num_leaves', 95)])\n"
          ]
        }
      ],
      "source": [
        "#Defino qué hiperparámetros usaré para LightGBM\n",
        "\n",
        "hiper_lgbm_pca = {\n",
        "         'learning_rate': Real(0.01, 0.1, 'uniform'),\n",
        "         'max_depth': Integer(3, 10),\n",
        "         'num_leaves': Integer(20, 100),\n",
        "}\n",
        "\n",
        "# Instancio BayesSearchCV\n",
        "\n",
        "lgbm_pca = LGBMClassifier(random_state = 10000)\n",
        "\n",
        "cv_lgbmboost_pca = StratifiedKFold(n_splits=5, shuffle=True, random_state=10000)\n",
        "\n",
        "bayes_search_lgbm_pca = BayesSearchCV(lgbm_pca, hiper_lgbm_pca, n_iter=5, scoring = 'accuracy', cv = cv_lgbmboost_pca, random_state=10000, n_jobs = -1, verbose = False)\n",
        "\n",
        "# Ajustar BayesSearchCV\n",
        "\n",
        "bayes_search_lgbm_pca.fit(X_train, Y_train)\n",
        "\n",
        "# Imprimir mejores parametros\n",
        "\n",
        "print(f'Best Parameters: {bayes_search_lgbm_pca.best_params_}')"
      ]
    },
    {
      "cell_type": "code",
      "execution_count": null,
      "metadata": {
        "id": "JZzXqNcLw_b-",
        "colab": {
          "base_uri": "https://localhost:8080/"
        },
        "outputId": "c6eb089c-c0a6-4d1d-a86c-d95f3928ecab"
      },
      "outputs": [
        {
          "output_type": "stream",
          "name": "stdout",
          "text": [
            "[LightGBM] [Info] Auto-choosing col-wise multi-threading, the overhead of testing was 0.007944 seconds.\n",
            "You can set `force_col_wise=true` to remove the overhead.\n",
            "[LightGBM] [Info] Total Bins 1020\n",
            "[LightGBM] [Info] Number of data points in the train set: 108506, number of used features: 4\n",
            "[LightGBM] [Info] Start training from score -0.150760\n",
            "[LightGBM] [Info] Start training from score -4.031360\n",
            "[LightGBM] [Info] Start training from score -2.102129\n"
          ]
        }
      ],
      "source": [
        "#Utilizo los mejores parámetros encontrados por BayesSearchCV\n",
        "\n",
        "Mejores_Parametros_Lgbm_Pca = {\n",
        "    'learning_rate': 0.01,\n",
        "    'max_depth': 8,\n",
        "    'num_leaves': 95,\n",
        "}\n",
        "\n",
        "lgbm_pca = LGBMClassifier(**Mejores_Parametros_Lgbm_Pca)\n",
        "\n",
        "lgbm_pca.fit(X_train, Y_train)\n",
        "\n",
        "Y_pred = lgbm_pca.predict(X_test)"
      ]
    },
    {
      "cell_type": "code",
      "execution_count": null,
      "metadata": {
        "id": "swMsf-TXxVAZ",
        "colab": {
          "base_uri": "https://localhost:8080/"
        },
        "outputId": "29794e19-22b0-43f4-d66e-24084ca4858c"
      },
      "outputs": [
        {
          "output_type": "stream",
          "name": "stdout",
          "text": [
            "Accuracy:  0.8600520396533557\n",
            "[[39995     0     0]\n",
            " [  825     0     0]\n",
            " [ 5683     0     0]]\n",
            "Precision:  0.7396895109118973\n",
            "Recall:  0.8600520396533557\n",
            "F1 - score:  0.7953428131502686\n"
          ]
        },
        {
          "output_type": "stream",
          "name": "stderr",
          "text": [
            "/usr/local/lib/python3.10/dist-packages/sklearn/metrics/_classification.py:1344: UndefinedMetricWarning: Precision is ill-defined and being set to 0.0 in labels with no predicted samples. Use `zero_division` parameter to control this behavior.\n",
            "  _warn_prf(average, modifier, msg_start, len(result))\n"
          ]
        }
      ],
      "source": [
        "# Calculo métricas\n",
        "\n",
        "\n",
        "accuracy_lgbm_pca = accuracy_score(Y_test, Y_pred)\n",
        "\n",
        "cm_lgbm_pca = confusion_matrix(Y_test, Y_pred)\n",
        "\n",
        "precision_lgbm_pca = precision_score(Y_test, Y_pred, average = 'weighted')\n",
        "\n",
        "recall_lgbm_pca = recall_score(Y_test, Y_pred, average = 'weighted')\n",
        "\n",
        "f1_lgbm_pca = f1_score(Y_test, Y_pred, average = 'weighted')\n",
        "\n",
        "#Imprimo métricas\n",
        "\n",
        "print('Accuracy: ', accuracy_lgbm_pca)\n",
        "\n",
        "print(cm_lgbm_pca)\n",
        "\n",
        "print('Precision: ', precision_lgbm_pca)\n",
        "\n",
        "print('Recall: ', recall_lgbm_pca)\n",
        "\n",
        "print('F1 - score: ', f1_lgbm_pca)"
      ]
    },
    {
      "cell_type": "code",
      "execution_count": null,
      "metadata": {
        "id": "oHXFQk9dxsgi",
        "colab": {
          "base_uri": "https://localhost:8080/"
        },
        "outputId": "b78abb6c-cb9e-4e6d-a7df-ab44c8bf2391"
      },
      "outputs": [
        {
          "output_type": "stream",
          "name": "stdout",
          "text": [
            "Best Parameters: OrderedDict([('max_depth', 16), ('min_samples_split', 11), ('n_estimators', 191)])\n"
          ]
        }
      ],
      "source": [
        "#Defino qué hiperparámetros usaré para RandomForest\n",
        "\n",
        "hiper_rforest_pca = {\n",
        "         'n_estimators': Integer(50, 200),\n",
        "         'max_depth': Integer(10, 70),\n",
        "         'min_samples_split': Integer(2, 15),\n",
        "}\n",
        "\n",
        "# Instancio BayesSearchCV\n",
        "\n",
        "rforest_pca = RandomForestClassifier (random_state = 10000)\n",
        "\n",
        "cv_rforest_pca = StratifiedKFold(n_splits=5, shuffle=True, random_state=10000)\n",
        "\n",
        "bayes_search_rforest_pca = BayesSearchCV(rforest_pca, hiper_rforest_pca, n_iter=5, scoring = 'accuracy', cv = cv_rforest_pca, random_state=10000, n_jobs = -1, verbose = False)\n",
        "\n",
        "# Ajustar BayesSearchCV\n",
        "\n",
        "bayes_search_rforest_pca.fit(X_train, Y_train)\n",
        "\n",
        "# Imprimir mejores parametros\n",
        "\n",
        "print(f'Best Parameters: {bayes_search_rforest_pca.best_params_}')"
      ]
    },
    {
      "cell_type": "code",
      "execution_count": null,
      "metadata": {
        "id": "HpgA-z9UyC_M"
      },
      "outputs": [],
      "source": [
        "#Utilizo los mejores parámetros encontrados por BayesSearchCV\n",
        "\n",
        "Mejores_Parametros_Rforest_Pca = {\n",
        "    'min_samples_split': 11,\n",
        "    'max_depth': 16,\n",
        "    'n_estimators': 191,\n",
        "}\n",
        "\n",
        "rfc_pca = RandomForestClassifier(**Mejores_Parametros_Rforest_Pca)\n",
        "\n",
        "rfc_pca.fit(X_train, Y_train)\n",
        "\n",
        "Y_pred = rfc_pca.predict(X_test)"
      ]
    },
    {
      "cell_type": "code",
      "execution_count": null,
      "metadata": {
        "id": "maT6YY059XQP",
        "colab": {
          "base_uri": "https://localhost:8080/"
        },
        "outputId": "e37be23d-13bc-45ed-ffc5-ad584b2c46af"
      },
      "outputs": [
        {
          "output_type": "stream",
          "name": "stdout",
          "text": [
            "Accuracy:  0.8596864718405264\n",
            "[[39946     0    49]\n",
            " [  821     0     4]\n",
            " [ 5651     0    32]]\n",
            "Precision:  0.7861435326707821\n",
            "Recall:  0.8596864718405264\n",
            "F1 - score:  0.7965057496604165\n"
          ]
        },
        {
          "output_type": "stream",
          "name": "stderr",
          "text": [
            "/usr/local/lib/python3.10/dist-packages/sklearn/metrics/_classification.py:1344: UndefinedMetricWarning: Precision is ill-defined and being set to 0.0 in labels with no predicted samples. Use `zero_division` parameter to control this behavior.\n",
            "  _warn_prf(average, modifier, msg_start, len(result))\n"
          ]
        }
      ],
      "source": [
        "# Calculo métricas\n",
        "\n",
        "\n",
        "accuracy_rforest_pca = accuracy_score(Y_test, Y_pred)\n",
        "\n",
        "cm_rforest_pca = confusion_matrix(Y_test, Y_pred)\n",
        "\n",
        "precision_rforest_pca = precision_score(Y_test, Y_pred, average = 'weighted')\n",
        "\n",
        "recall_rforest_pca = recall_score(Y_test, Y_pred, average = 'weighted')\n",
        "\n",
        "f1_rforest_pca = f1_score(Y_test, Y_pred, average = 'weighted')\n",
        "\n",
        "#Imprimo métricas\n",
        "\n",
        "print('Accuracy: ', accuracy_rforest_pca)\n",
        "\n",
        "print(cm_rforest_pca)\n",
        "\n",
        "print('Precision: ', precision_rforest_pca)\n",
        "\n",
        "print('Recall: ', recall_rforest_pca)\n",
        "\n",
        "print('F1 - score: ', f1_rforest_pca)"
      ]
    },
    {
      "cell_type": "markdown",
      "source": [
        "##Conclusión: aplicar Polynomial Features con los datos normalizados y haciendo tratamiento de outliers da un resultado ligeramente mejor que aplicando PCA. En este caso, el modelo que arroja las mejores métricas es Catboost con Polynomial Features, datos normalizados y tratamiento de outliers. En la próxima entrega se va a implementar SMOTE y Binning/Bucketing para determinar si mejoran las métricas."
      ],
      "metadata": {
        "id": "Jbgym1suZTyO"
      }
    }
  ],
  "metadata": {
    "colab": {
      "provenance": []
    },
    "kernelspec": {
      "display_name": "Python 3",
      "name": "python3"
    },
    "language_info": {
      "name": "python"
    }
  },
  "nbformat": 4,
  "nbformat_minor": 0
}